{
 "cells": [
  {
   "cell_type": "markdown",
   "metadata": {},
   "source": [
    "# Assignment: Linear Regression"
   ]
  },
  {
   "cell_type": "markdown",
   "metadata": {},
   "source": [
    "## Introduction"
   ]
  },
  {
   "cell_type": "markdown",
   "metadata": {},
   "source": [
    "In this assignment we work on the linear regression of data with one variable. The data we use for this is the profit of a transporter related to the size of a city where that transporter works. You can imagine that it is useful to know this ratio, because on this basis you can make an informed decision whether you want to open a new branch in a new city (with a certain size). The data is given in the file `data.pkl`."
   ]
  },
  {
   "cell_type": "markdown",
   "metadata": {},
   "source": [
    "## 1. Load the data\n",
    "To be able to carry out the exercises, we first load the necessary files and set some variables. Run the cell below."
   ]
  },
  {
   "cell_type": "code",
   "execution_count": 1,
   "metadata": {},
   "outputs": [],
   "source": [
    "#dependencies\n",
    "import numpy as np\n",
    "import pickle\n",
    "import matplotlib.pyplot as plt\n",
    "\n",
    "#load the data\n",
    "with open('data/vervoerder.pkl','rb') as f:\n",
    "    data=pickle.load(f) \n",
    "\n",
    "#define the number of observations (m) and the number of features (n)\n",
    "m,n = data.shape\n",
    "\n",
    "#define matrix X, vector y and the initial values of theta (which are zeros)\n",
    "X = np.c_[np.ones(m), data[:, [0]]]\n",
    "y = data[:, [1]]\n",
    "theta = np.zeros( (2, 1) )\n",
    "\n",
    "#pyplot inline \n",
    "%matplotlib inline"
   ]
  },
  {
   "cell_type": "markdown",
   "metadata": {},
   "source": [
    "## 2. Inspect the data"
   ]
  },
  {
   "cell_type": "markdown",
   "metadata": {},
   "source": [
    "The second step in any machine-learning project is to inspect the data. We can do that by creating an image of the data. The easiest way to do this in this case is to use a scatter plot."
   ]
  },
  {
   "cell_type": "code",
   "execution_count": 2,
   "metadata": {},
   "outputs": [],
   "source": [
    "def drawGraph(data):\n",
    "    \"\"\"\n",
    "    Make a scatter plot of the data with the size of the cities on the x-axis, \n",
    "    the profit of the carrier on the y-axis.\n",
    "    Don't forget to label the axes of the graph (ylabel, xlabel)\n",
    "    \"\"\"\n",
    "    #YOUR CODE HERE\n",
    "\n",
    "    pass\n",
    "\n",
    "drawGraph(data)"
   ]
  },
  {
   "cell_type": "markdown",
   "metadata": {},
   "source": [
    "## 3. Model (<em>cost function</em>)"
   ]
  },
  {
   "cell_type": "markdown",
   "metadata": {},
   "source": [
    "As discussed in the theoretical part, the goal is to minimize the cost function. You minimize this by using <em> gradient descent </em>. It is often useful to keep track of that cost function during the iterations, so that you can plot the different results through your data - for example, you can check whether you have not entered a local minimum. In this assignment we program the cost function further; the following exercise discusses the <em> gradient descent </em>. We ask you specifically to program the cost function yourself instead of using a sklearn module in order to fully understand the principle of the linear regression. "
   ]
  },
  {
   "cell_type": "markdown",
   "metadata": {},
   "source": [
    "The cost function is given by the following equation:\n",
    "\n",
    "$$ J(\\theta) = \\frac{1}{2m} \\sum_{i=1}^{m} ( h_\\theta(x^{(i)}) - y^{(i)} ) ^2$$\n",
    "\n",
    "In which $J(\\theta)$ is the total cost calculated by the current values of $\\theta$; $h_\\theta(x)$ is the hypothesed value of the values (the prediction) and $y$ is the actual value. By adding up and eventually averaging the difference between these two values for each data point, we arrive at the predictive value that the formula has with the current values of $\\theta$.\n"
   ]
  },
  {
   "cell_type": "markdown",
   "metadata": {},
   "source": [
    "For the hypothesis we can use a vectorized implementation. \n",
    "\n",
    "$$ h_\\theta(x) = \\theta^T.X = \\theta_0 + \\theta_1x $$\n",
    "\n",
    "<p>Since we are looking for a line, we are actually dealing with one parameter (after all, a line is $ y = b + ax $). To make the dimensionality of the training data correspond to $ \\ theta $, we have to add a column of ones.</p>"
   ]
  },
  {
   "cell_type": "markdown",
   "metadata": {},
   "source": [
    "The predicted values in $ X $, the current values in $ y $ and a theta are given below to the method `computeCost`; this function must return the value of $ J (\\ theta) $. Implement this function; see also the directions in the cell below. Make it work for any size of theta (a vectorial implementation).\n",
    "\n",
    "You should end up with a value of around 32.07."
   ]
  },
  {
   "cell_type": "code",
   "execution_count": 3,
   "metadata": {},
   "outputs": [
    {
     "name": "stdout",
     "output_type": "stream",
     "text": [
      "calculated J is 0.0000.\n",
      "This should be around 32.07\n"
     ]
    }
   ],
   "source": [
    "\n",
    "def computeCost(X, y, theta):\n",
    "    \"\"\"\n",
    "    This method calculates the cost of the current values of theta, that is, the extent to which the\n",
    "    prediction (given the specific value of theta) corresponds to the actual value (that\n",
    "    is given in y).\n",
    "\n",
    "    Every data point in X is multiplied by theta (which dimensions have X and thus theta transposed)\n",
    "    and the result of this is compared with the actual value (so with y). The difference between\n",
    "    these two values are squared and the total of all these squares is divided by it\n",
    "    number of data points to get the average. You must return this average (the variable\n",
    "    J: a number, in short).\n",
    "\n",
    "    A pseudo algorithm could be the following:\n",
    "\n",
    "    1.Determine the number of data points\n",
    "    2.Determine the prediction \n",
    "    3.Calculate the difference between this prediction and the actual value\n",
    "    4.square this difference\n",
    "    5.Add all these squares together and divide by twice the number of data points\n",
    "    \"\"\"\n",
    "\n",
    "    J = 0\n",
    "    \n",
    "    #YOUR CODE HERE\n",
    "\n",
    "    return J\n",
    "\n",
    "J = computeCost(X, y, theta)\n",
    "print (\"calculated J is {:.4f}.\".format(J))\n",
    "print (\"This should be around 32.07\")"
   ]
  },
  {
   "cell_type": "markdown",
   "metadata": {},
   "source": [
    "## 3. Model (Gradient descent)"
   ]
  },
  {
   "cell_type": "markdown",
   "metadata": {},
   "source": [
    "Finally, you create the method `gradientDescent`. In this method a number of steps are performed, in each step the vector $ \\ theta $ is adjusted according to the formula below.\n",
    "\n",
    "$$ \\theta_j := \\theta_j - \\alpha \\frac{1}{m}\\sum_{i=1}^{m}(h_\\theta(x^{(i)}) - y^{(i)})x^{(i)}_j $$\n",
    "\n",
    "$ \\ Alpha $ is the learning speed (* learning rate *).\n",
    "If all goes well, every step in this method will cause $ J (\\ theta) $ to drop. Note that you edit all $ \\ theta_j $ at the same time (in this case the size of $ \\ theta is $ 2, so every iteration two parameters need to be adjusted). Also, make sure you <em> only </em> change the $ \\ theta $: X and y are constant values that don't need to be changed."
   ]
  },
  {
   "cell_type": "markdown",
   "metadata": {},
   "source": [
    "In this method, you also need to keep a list that tracks the cost of that specific iteration (the values of J). We use this list in the cell below to actually show the * gradual descent *. Make sure that the method `gradientDescent` returns two things: the final values of theta and the list of costs through the descent."
   ]
  },
  {
   "cell_type": "code",
   "execution_count": 4,
   "metadata": {},
   "outputs": [
    {
     "name": "stdout",
     "output_type": "stream",
     "text": [
      "Values theta=[0. 0.]\n",
      "This should be around (-3.63, 1.16)\n"
     ]
    }
   ],
   "source": [
    "def gradientDescent(X, y, theta, alpha, num_iters):\n",
    "    \"\"\"\n",
    "    In this problem, every parameter of theta num_iter is updated times the optimal values\n",
    "    for these parameters. Per iteration you have to update all parameters of theta.\n",
    "\n",
    "    Each parameter of theta is reduced by the sum of the error of all data points\n",
    "    multiplied by the data point itself (see Blackboard for the corresponding formula).\n",
    "    This sum itself is multiplied by the 'learning rate' alpha.\n",
    "\n",
    "    A possible step-by-step plan would be:\n",
    "    \n",
    "    For every iteration from 1 to num_iters:\n",
    "        1. Determine the prediction for the data point, given the current value of theta\n",
    "        2. Determine the difference between this forecast and the true value\n",
    "        3. Multiply this difference by the ith value of X.\n",
    "        4. Update the ith parameter of theta, namely by decreasing it by\n",
    "        5. alpha times the mean of the sum of the multiplication from 3\n",
    "    \"\"\"\n",
    "    m,n = X.shape\n",
    "    costs = [] \n",
    "    for _ in range(num_iters):\n",
    "        #YOUR CODE HERE\n",
    "        pass\n",
    "\n",
    "    return theta[0], costs\n",
    "\n",
    "alpha = 0.01\n",
    "num_iters = 1500\n",
    "theta = np.zeros( (1,2) )\n",
    "theta, costs = gradientDescent(X, y, theta, alpha, num_iters) \n",
    "print (\"Values theta={}\".format(theta))\n",
    "print (\"This should be around (-3.63, 1.16)\");"
   ]
  },
  {
   "cell_type": "markdown",
   "metadata": {},
   "source": [
    "## 4. Evaluate"
   ]
  },
  {
   "cell_type": "markdown",
   "metadata": {},
   "source": [
    "Now we plot the cost against iterations"
   ]
  },
  {
   "cell_type": "code",
   "execution_count": 5,
   "metadata": {},
   "outputs": [
    {
     "data": {
      "image/png": "[encoded data removed]",
      "text/plain": [
       "<Figure size 432x288 with 1 Axes>"
      ]
     },
     "metadata": {
      "needs_background": "light"
     },
     "output_type": "display_data"
    }
   ],
   "source": [
    "def drawCosts(data): \n",
    "    y = np.arange(len(data))\n",
    "    plt.plot(data,y)\n",
    "    plt.ylabel(r'$J(\\theta)$')\n",
    "    plt.xlabel('iterations')\n",
    "    plt.show()\n",
    "    \n",
    "drawCosts(costs)"
   ]
  },
  {
   "cell_type": "code",
   "execution_count": null,
   "metadata": {},
   "outputs": [],
   "source": []
  }
 ],
 "metadata": {
  "kernelspec": {
   "display_name": "Python 3 (ipykernel)",
   "language": "python",
   "name": "python3"
  },
  "language_info": {
   "codemirror_mode": {
    "name": "ipython",
    "version": 3
   },
   "file_extension": ".py",
   "mimetype": "text/x-python",
   "name": "python",
   "nbconvert_exporter": "python",
   "pygments_lexer": "ipython3",
   "version": "3.9.10"
  }
 },
 "nbformat": 4,
 "nbformat_minor": 2
}
