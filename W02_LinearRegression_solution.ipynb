{
 "cells": [
  {
   "cell_type": "markdown",
   "metadata": {},
   "source": [
    "# Solution Linear Regression"
   ]
  },
  {
   "cell_type": "code",
   "execution_count": 1,
   "metadata": {},
   "outputs": [
    {
     "name": "stdout",
     "output_type": "stream",
     "text": [
      "[[ 5.5277  9.1302]\n",
      " [ 8.5186 13.662 ]\n",
      " [ 7.0032 11.854 ]\n",
      " [ 5.8598  6.8233]]\n",
      "[[0. 0.]]\n"
     ]
    }
   ],
   "source": [
    "#dependencies\n",
    "import numpy as np\n",
    "import pickle\n",
    "import matplotlib.pyplot as plt\n",
    "\n",
    "#load data\n",
    "with open('data/vervoerder.pkl','rb') as f:\n",
    "    data=pickle.load(f) \n",
    "\n",
    "#number observaties (m) and number of features (n)\n",
    "m,n = data.shape\n",
    "#inspect data\n",
    "print(data[1:5])\n",
    "\n",
    "\n",
    "#setup matrix X, vector y and initial values theta\n",
    "#first column data is x, second is y\n",
    "X = np.c_[np.ones(m), data[:, [0]]]\n",
    "y = data[:, [1]]\n",
    "theta = np.zeros( (1,2) )\n",
    "print (theta)\n",
    "\n",
    "#zorg ervoor dat pyplot inline wordt weergegeven\n",
    "%matplotlib inline"
   ]
  },
  {
   "cell_type": "code",
   "execution_count": 2,
   "metadata": {},
   "outputs": [
    {
     "data": {
      "image/png": "[encoded data removed]",
      "text/plain": [
       "<Figure size 432x288 with 1 Axes>"
      ]
     },
     "metadata": {
      "needs_background": "light"
     },
     "output_type": "display_data"
    }
   ],
   "source": [
    "def drawGraph(data):\n",
    "    x,y = data.T\n",
    "    plt.scatter(x,y)\n",
    "    plt.ylabel('Profit (10k$)')\n",
    "    plt.xlabel('Population (10k person)') \n",
    "    plt.show()\n",
    "\n",
    "drawGraph(data)"
   ]
  },
  {
   "cell_type": "code",
   "execution_count": 5,
   "metadata": {},
   "outputs": [
    {
     "name": "stdout",
     "output_type": "stream",
     "text": [
      "Found J: 32.0727.\n",
      "This should be around 32.07 \n"
     ]
    }
   ],
   "source": [
    "\n",
    "def computeCost(X, y, theta):\n",
    "    m,n = X.shape\n",
    "    predictions = np.dot(X, theta.T)\n",
    "    errors = (predictions - y) ** 2\n",
    "    J = (1/(2*m)) * sum(errors)[0]\n",
    "\n",
    "    return J\n",
    "\n",
    "J = computeCost(X, y, theta)\n",
    "print (f\"Found J: {J:.4f}.\")\n",
    "print (\"This should be around 32.07 \")"
   ]
  },
  {
   "cell_type": "code",
   "execution_count": 6,
   "metadata": {},
   "outputs": [
    {
     "name": "stdout",
     "output_type": "stream",
     "text": [
      "(1, 2)\n",
      "inital cost 32.07\n",
      "cost after 1 step: 6.74\n",
      "final cost: 4.48\n",
      "theta=[-3.63029144  1.16636235]\n",
      "This should be (-3.63, 1.16)\n"
     ]
    }
   ],
   "source": [
    "def gradientDescent(X, y, theta, alpha, num_iters):\n",
    "    m,n = X.shape\n",
    "    costs = [] \n",
    "    for _ in range(num_iters):\n",
    "        h = np.dot(X, theta.T)\n",
    "        loss = h - y\n",
    "        grad = np.dot(X.T, loss) / m\n",
    "        theta = theta - grad.T * alpha\n",
    "        costs.append(computeCost(X, y, theta)) \n",
    "\n",
    "    return theta[0], costs\n",
    "\n",
    "alpha = 0.01\n",
    "num_iters = 1500\n",
    "theta = np.zeros( (1,2) )\n",
    "print (theta.shape)\n",
    "print(f\"inital cost {computeCost(X, y, theta):.2f}\")\n",
    "\n",
    "theta, costs = gradientDescent(X, y, theta, alpha, num_iters) \n",
    "\n",
    "print(f\"cost after 1 step: {costs[0]:.2f}\")\n",
    "print(f\"final cost: {costs[num_iters-1]:.2f}\")\n",
    "\n",
    "print(f\"theta={theta}\")\n",
    "print(\"This should be (-3.63, 1.16)\");"
   ]
  },
  {
   "cell_type": "code",
   "execution_count": 7,
   "metadata": {},
   "outputs": [
    {
     "data": {
      "image/png": "[encoded data removed]",
      "text/plain": [
       "<Figure size 432x288 with 1 Axes>"
      ]
     },
     "metadata": {
      "needs_background": "light"
     },
     "output_type": "display_data"
    }
   ],
   "source": [
    "def drawCosts(costs): \n",
    "    x = np.arange(len(costs))\n",
    "    plt.plot(x, costs)\n",
    "    plt.ylabel(r'$J(\\theta)$')\n",
    "    plt.xlabel('iterations')\n",
    "    plt.show()\n",
    "    \n",
    "drawCosts(costs)"
   ]
  },
  {
   "cell_type": "code",
   "execution_count": null,
   "metadata": {},
   "outputs": [],
   "source": []
  }
 ],
 "metadata": {
  "kernelspec": {
   "display_name": "Python 3 (ipykernel)",
   "language": "python",
   "name": "python3"
  },
  "language_info": {
   "codemirror_mode": {
    "name": "ipython",
    "version": 3
   },
   "file_extension": ".py",
   "mimetype": "text/x-python",
   "name": "python",
   "nbconvert_exporter": "python",
   "pygments_lexer": "ipython3",
   "version": "3.9.10"
  }
 },
 "nbformat": 4,
 "nbformat_minor": 2
}
