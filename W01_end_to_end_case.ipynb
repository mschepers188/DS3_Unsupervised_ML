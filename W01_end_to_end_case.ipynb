{
 "cells": [
  {
   "cell_type": "markdown",
   "metadata": {},
   "source": [
    "# Data Science 3 (prediction)\n",
    "\n",
    "## End to end example\n",
    "\n",
    "**Teachers:**\n",
    "\n",
    "* Supervised learning: Bart Barnard (BABA)\n",
    "\n",
    "**Data files:**\n",
    "\n",
    "* heart_failure_clinical_records_dataset.csv\n",
    "* data_description.csv\n",
    "\n",
    "\n",
    "This notebook demonstrates the steps to build a supervised machine learning model. The following steps are performed\n",
    "\n",
    "1. Data is loaded. \n",
    "2. Data is inspected\n",
    "3. Data is visualized to gain more understanding about the data\n",
    "4. Data is prepared for the model to train\n",
    "5. Model is trained on the prepared data\n",
    "6. Model is used to test the working of the model\n",
    "7. Model is evaluated\n",
    "8. Model is improved\n"
   ]
  },
  {
   "cell_type": "markdown",
   "metadata": {},
   "source": [
    "\n",
    "\n",
    "##  Supervised learning \n",
    "\n",
    "Cardiovascular diseases kill approximately 17 million people globally every year, and they mainly exhibit as myocardial infarctions and heart failures. Heart failure occurs when the heart cannot pump enough blood to meet the needs of the body. Available electronic medical records of patients quantify symptoms, body features, and clinical laboratory test values, which can be used to perform biostatistics analysis aimed at highlighting patterns and correlations otherwise undetectable by medical doctors. Machine learning, can predict patients’ survival from their data and can individuate the most important features among those included in their medical records[1]. In this we build a machine learning classifier to predict a patient's survival. The goal is to select the most important features for predicting the patient's survival. Data for the analysis is available in `heart_failure_clinical_records_dataset.csv`. The data description is to be found in the table `data_description.csv`\n"
   ]
  },
  {
   "cell_type": "code",
   "execution_count": 1,
   "metadata": {},
   "outputs": [
    {
     "data": {
      "text/html": [
       "<div>\n",
       "<style scoped>\n",
       "    .dataframe tbody tr th:only-of-type {\n",
       "        vertical-align: middle;\n",
       "    }\n",
       "\n",
       "    .dataframe tbody tr th {\n",
       "        vertical-align: top;\n",
       "    }\n",
       "\n",
       "    .dataframe thead th {\n",
       "        text-align: right;\n",
       "    }\n",
       "</style>\n",
       "<table border=\"1\" class=\"dataframe\">\n",
       "  <thead>\n",
       "    <tr style=\"text-align: right;\">\n",
       "      <th></th>\n",
       "      <th>Feature</th>\n",
       "      <th>Explanation</th>\n",
       "      <th>Measurement</th>\n",
       "    </tr>\n",
       "  </thead>\n",
       "  <tbody>\n",
       "    <tr>\n",
       "      <th>0</th>\n",
       "      <td>Age</td>\n",
       "      <td>Age of patient</td>\n",
       "      <td>years</td>\n",
       "    </tr>\n",
       "    <tr>\n",
       "      <th>1</th>\n",
       "      <td>Anaemia</td>\n",
       "      <td>Decrease of red blood cells or hemoglobin</td>\n",
       "      <td>Boolean</td>\n",
       "    </tr>\n",
       "    <tr>\n",
       "      <th>2</th>\n",
       "      <td>High blood pressure</td>\n",
       "      <td>If a patient has hypertension</td>\n",
       "      <td>Boolean</td>\n",
       "    </tr>\n",
       "    <tr>\n",
       "      <th>3</th>\n",
       "      <td>Creatinine phosphokinase</td>\n",
       "      <td>Level of the CPK enzyme in the blood</td>\n",
       "      <td>mcg/L</td>\n",
       "    </tr>\n",
       "    <tr>\n",
       "      <th>4</th>\n",
       "      <td>Diabetes</td>\n",
       "      <td>If the patient has diabetes</td>\n",
       "      <td>Boolean</td>\n",
       "    </tr>\n",
       "    <tr>\n",
       "      <th>5</th>\n",
       "      <td>Ejection fraction</td>\n",
       "      <td>Percentage of blood leaving the heart at each ...</td>\n",
       "      <td>Percentage</td>\n",
       "    </tr>\n",
       "    <tr>\n",
       "      <th>6</th>\n",
       "      <td>Sex</td>\n",
       "      <td>Woman or Man</td>\n",
       "      <td>Binary</td>\n",
       "    </tr>\n",
       "    <tr>\n",
       "      <th>7</th>\n",
       "      <td>Platelets</td>\n",
       "      <td>Platelets in the blood</td>\n",
       "      <td>kiloplatelets/mL</td>\n",
       "    </tr>\n",
       "    <tr>\n",
       "      <th>8</th>\n",
       "      <td>Serum creatinine</td>\n",
       "      <td>Level of creatinine in the blood</td>\n",
       "      <td>mg/dL</td>\n",
       "    </tr>\n",
       "    <tr>\n",
       "      <th>9</th>\n",
       "      <td>Serum sodium</td>\n",
       "      <td>Level of sodium in the blood</td>\n",
       "      <td>mEq/L</td>\n",
       "    </tr>\n",
       "    <tr>\n",
       "      <th>10</th>\n",
       "      <td>Smoking</td>\n",
       "      <td>If the patient smokes</td>\n",
       "      <td>Boolean</td>\n",
       "    </tr>\n",
       "    <tr>\n",
       "      <th>11</th>\n",
       "      <td>Time</td>\n",
       "      <td>Follow-up period</td>\n",
       "      <td>Days</td>\n",
       "    </tr>\n",
       "    <tr>\n",
       "      <th>12</th>\n",
       "      <td>death event</td>\n",
       "      <td>If the patient died during the follow-up period</td>\n",
       "      <td>Boolean</td>\n",
       "    </tr>\n",
       "  </tbody>\n",
       "</table>\n",
       "</div>"
      ],
      "text/plain": [
       "                     Feature  \\\n",
       "0                        Age   \n",
       "1                    Anaemia   \n",
       "2        High blood pressure   \n",
       "3   Creatinine phosphokinase   \n",
       "4                   Diabetes   \n",
       "5          Ejection fraction   \n",
       "6                        Sex   \n",
       "7                  Platelets   \n",
       "8           Serum creatinine   \n",
       "9               Serum sodium   \n",
       "10                   Smoking   \n",
       "11                      Time   \n",
       "12               death event   \n",
       "\n",
       "                                          Explanation       Measurement  \n",
       "0                                      Age of patient             years  \n",
       "1           Decrease of red blood cells or hemoglobin           Boolean  \n",
       "2                       If a patient has hypertension           Boolean  \n",
       "3                Level of the CPK enzyme in the blood             mcg/L  \n",
       "4                         If the patient has diabetes           Boolean  \n",
       "5   Percentage of blood leaving the heart at each ...        Percentage  \n",
       "6                                        Woman or Man            Binary  \n",
       "7                              Platelets in the blood  kiloplatelets/mL  \n",
       "8                    Level of creatinine in the blood             mg/dL  \n",
       "9                        Level of sodium in the blood             mEq/L  \n",
       "10                              If the patient smokes           Boolean  \n",
       "11                                   Follow-up period              Days  \n",
       "12    If the patient died during the follow-up period           Boolean  "
      ]
     },
     "execution_count": 1,
     "metadata": {},
     "output_type": "execute_result"
    }
   ],
   "source": [
    "#given code for data description\n",
    "import pandas as pd\n",
    "import numpy as np\n",
    "\n",
    "md = pd.read_csv('data/data_description.csv', sep=';')\n",
    "md"
   ]
  },
  {
   "cell_type": "markdown",
   "metadata": {},
   "source": [
    "\n",
    "### Inspect the data\n",
    " \n",
    "\n",
    "Data is loaded. The `time` feature is dropped, since this is not a biometric.  After loading the data the following questions are answered by the aid of creating meaningfull visualizations and overviews. \n",
    "\n",
    "1. Is the dataset balanced? How might that affect the confusion matrix\n",
    "2. Based on the datatype of each feature, are there any features that cannot be used in a logistic regression classifier? \n",
    "3. Is imputation needed?"
   ]
  },
  {
   "cell_type": "code",
   "execution_count": 3,
   "metadata": {},
   "outputs": [
    {
     "data": {
      "text/html": [
       "<div>\n",
       "<style scoped>\n",
       "    .dataframe tbody tr th:only-of-type {\n",
       "        vertical-align: middle;\n",
       "    }\n",
       "\n",
       "    .dataframe tbody tr th {\n",
       "        vertical-align: top;\n",
       "    }\n",
       "\n",
       "    .dataframe thead th {\n",
       "        text-align: right;\n",
       "    }\n",
       "</style>\n",
       "<table border=\"1\" class=\"dataframe\">\n",
       "  <thead>\n",
       "    <tr style=\"text-align: right;\">\n",
       "      <th></th>\n",
       "      <th>age</th>\n",
       "      <th>anaemia</th>\n",
       "      <th>creatinine_phosphokinase</th>\n",
       "      <th>diabetes</th>\n",
       "      <th>ejection_fraction</th>\n",
       "      <th>high_blood_pressure</th>\n",
       "      <th>platelets</th>\n",
       "      <th>serum_creatinine</th>\n",
       "      <th>serum_sodium</th>\n",
       "      <th>sex</th>\n",
       "      <th>smoking</th>\n",
       "      <th>DEATH_EVENT</th>\n",
       "    </tr>\n",
       "  </thead>\n",
       "  <tbody>\n",
       "    <tr>\n",
       "      <th>0</th>\n",
       "      <td>75.0</td>\n",
       "      <td>0</td>\n",
       "      <td>582</td>\n",
       "      <td>0</td>\n",
       "      <td>20</td>\n",
       "      <td>1</td>\n",
       "      <td>265000.00</td>\n",
       "      <td>1.9</td>\n",
       "      <td>130</td>\n",
       "      <td>1</td>\n",
       "      <td>0</td>\n",
       "      <td>1</td>\n",
       "    </tr>\n",
       "    <tr>\n",
       "      <th>1</th>\n",
       "      <td>55.0</td>\n",
       "      <td>0</td>\n",
       "      <td>7861</td>\n",
       "      <td>0</td>\n",
       "      <td>38</td>\n",
       "      <td>0</td>\n",
       "      <td>263358.03</td>\n",
       "      <td>1.1</td>\n",
       "      <td>136</td>\n",
       "      <td>1</td>\n",
       "      <td>0</td>\n",
       "      <td>1</td>\n",
       "    </tr>\n",
       "    <tr>\n",
       "      <th>2</th>\n",
       "      <td>65.0</td>\n",
       "      <td>0</td>\n",
       "      <td>146</td>\n",
       "      <td>0</td>\n",
       "      <td>20</td>\n",
       "      <td>0</td>\n",
       "      <td>162000.00</td>\n",
       "      <td>1.3</td>\n",
       "      <td>129</td>\n",
       "      <td>1</td>\n",
       "      <td>1</td>\n",
       "      <td>1</td>\n",
       "    </tr>\n",
       "    <tr>\n",
       "      <th>3</th>\n",
       "      <td>50.0</td>\n",
       "      <td>1</td>\n",
       "      <td>111</td>\n",
       "      <td>0</td>\n",
       "      <td>20</td>\n",
       "      <td>0</td>\n",
       "      <td>210000.00</td>\n",
       "      <td>1.9</td>\n",
       "      <td>137</td>\n",
       "      <td>1</td>\n",
       "      <td>0</td>\n",
       "      <td>1</td>\n",
       "    </tr>\n",
       "    <tr>\n",
       "      <th>4</th>\n",
       "      <td>65.0</td>\n",
       "      <td>1</td>\n",
       "      <td>160</td>\n",
       "      <td>1</td>\n",
       "      <td>20</td>\n",
       "      <td>0</td>\n",
       "      <td>327000.00</td>\n",
       "      <td>2.7</td>\n",
       "      <td>116</td>\n",
       "      <td>0</td>\n",
       "      <td>0</td>\n",
       "      <td>1</td>\n",
       "    </tr>\n",
       "  </tbody>\n",
       "</table>\n",
       "</div>"
      ],
      "text/plain": [
       "    age  anaemia  creatinine_phosphokinase  diabetes  ejection_fraction  \\\n",
       "0  75.0        0                       582         0                 20   \n",
       "1  55.0        0                      7861         0                 38   \n",
       "2  65.0        0                       146         0                 20   \n",
       "3  50.0        1                       111         0                 20   \n",
       "4  65.0        1                       160         1                 20   \n",
       "\n",
       "   high_blood_pressure  platelets  serum_creatinine  serum_sodium  sex  \\\n",
       "0                    1  265000.00               1.9           130    1   \n",
       "1                    0  263358.03               1.1           136    1   \n",
       "2                    0  162000.00               1.3           129    1   \n",
       "3                    0  210000.00               1.9           137    1   \n",
       "4                    0  327000.00               2.7           116    0   \n",
       "\n",
       "   smoking  DEATH_EVENT  \n",
       "0        0            1  \n",
       "1        0            1  \n",
       "2        1            1  \n",
       "3        0            1  \n",
       "4        0            1  "
      ]
     },
     "execution_count": 3,
     "metadata": {},
     "output_type": "execute_result"
    }
   ],
   "source": [
    "#Load the data. Drop the time feature, since this is not a biometric\n",
    "import pandas as pd\n",
    "import numpy as np\n",
    "\n",
    "df = pd.read_csv('data/heart_failure_clinical_records_dataset.csv')\n",
    "df = df.drop(['time'],axis = 1) \n",
    "df.head()\n"
   ]
  },
  {
   "cell_type": "code",
   "execution_count": 5,
   "metadata": {},
   "outputs": [
    {
     "name": "stdout",
     "output_type": "stream",
     "text": [
      "<class 'pandas.core.frame.DataFrame'>\n",
      "RangeIndex: 299 entries, 0 to 298\n",
      "Data columns (total 12 columns):\n",
      " #   Column                    Non-Null Count  Dtype  \n",
      "---  ------                    --------------  -----  \n",
      " 0   age                       299 non-null    float64\n",
      " 1   anaemia                   299 non-null    int64  \n",
      " 2   creatinine_phosphokinase  299 non-null    int64  \n",
      " 3   diabetes                  299 non-null    int64  \n",
      " 4   ejection_fraction         299 non-null    int64  \n",
      " 5   high_blood_pressure       299 non-null    int64  \n",
      " 6   platelets                 299 non-null    float64\n",
      " 7   serum_creatinine          299 non-null    float64\n",
      " 8   serum_sodium              299 non-null    int64  \n",
      " 9   sex                       299 non-null    int64  \n",
      " 10  smoking                   299 non-null    int64  \n",
      " 11  DEATH_EVENT               299 non-null    int64  \n",
      "dtypes: float64(3), int64(9)\n",
      "memory usage: 28.2 KB\n"
     ]
    }
   ],
   "source": [
    "# are there any features that cannot be used in a logistic regression classifier? \n",
    "df.info() \n",
    "# all datatypes needs to be numeric to do the calculations. \n",
    "# All datatypes are float or integers and therefore can be used in a classifier. "
   ]
  },
  {
   "cell_type": "code",
   "execution_count": 7,
   "metadata": {},
   "outputs": [
    {
     "name": "stdout",
     "output_type": "stream",
     "text": [
      "Number of survived:  203\n",
      "Number of deaths:  96\n",
      "\n",
      "\n",
      "% of survived 67.9 %\n",
      "% of death 32.1 %\n"
     ]
    },
    {
     "data": {
      "text/plain": [
       "<AxesSubplot:>"
      ]
     },
     "execution_count": 7,
     "metadata": {},
     "output_type": "execute_result"
    },
    {
     "data": {
      "image/png": "[encoded data removed]",
      "text/plain": [
       "<Figure size 432x288 with 1 Axes>"
      ]
     },
     "metadata": {
      "needs_background": "light"
     },
     "output_type": "display_data"
    }
   ],
   "source": [
    "df['DEATH_EVENT'].value_counts() \n",
    "# Because of the imbalance of the dataset, \n",
    "# all the methods obtain a better prediction scores on the true negative rate (predicting death), \n",
    "# rather than on the true positive rate\n",
    "\n",
    "survived, dead = df['DEATH_EVENT'].value_counts()\n",
    "print('Number of survived: ', survived)  \n",
    "print('Number of deaths: ', dead) \n",
    "\n",
    "print('\\n')\n",
    "print('% of survived', round(survived / len(df) * 100, 1), '%')\n",
    "print('% of death', round(dead / len(df) * 100, 1), '%')\n",
    "\n",
    "\n",
    "df.DEATH_EVENT.value_counts().plot(kind='barh')"
   ]
  },
  {
   "cell_type": "code",
   "execution_count": 8,
   "metadata": {},
   "outputs": [
    {
     "data": {
      "text/plain": [
       "age                         0\n",
       "anaemia                     0\n",
       "creatinine_phosphokinase    0\n",
       "diabetes                    0\n",
       "ejection_fraction           0\n",
       "high_blood_pressure         0\n",
       "platelets                   0\n",
       "serum_creatinine            0\n",
       "serum_sodium                0\n",
       "sex                         0\n",
       "smoking                     0\n",
       "DEATH_EVENT                 0\n",
       "dtype: int64"
      ]
     },
     "execution_count": 8,
     "metadata": {},
     "output_type": "execute_result"
    }
   ],
   "source": [
    "# missing data\n",
    "df.isnull().sum() \n",
    "# no missing data, no imputation needed"
   ]
  },
  {
   "cell_type": "markdown",
   "metadata": {},
   "source": [
    "### Feature selection\n",
    "\n",
    "We create a meaningful visualization to estimate the three most important features. "
   ]
  },
  {
   "cell_type": "code",
   "execution_count": 11,
   "metadata": {},
   "outputs": [
    {
     "data": {
      "text/plain": [
       "<AxesSubplot:>"
      ]
     },
     "execution_count": 11,
     "metadata": {},
     "output_type": "execute_result"
    },
    {
     "data": {
      "image/png": "[encoded data removed]",
      "text/plain": [
       "<Figure size 432x288 with 2 Axes>"
      ]
     },
     "metadata": {
      "needs_background": "light"
     },
     "output_type": "display_data"
    }
   ],
   "source": [
    "import seaborn as sns\n",
    "c = df.corr().abs()\n",
    "sns.heatmap(c)\n",
    "# age, ejection_fraction, serum_creatinine do have most light colors -> strongest contributers?\n",
    "# a model with biometrics is for medical use. It is often expensive to acquire the data, \n",
    "# a simpel model which has an acceptable performance metrics is the most practical. Feature \n",
    "# selection might also improve overfitting"
   ]
  },
  {
   "cell_type": "code",
   "execution_count": 10,
   "metadata": {},
   "outputs": [
    {
     "data": {
      "image/png": "[encoded data removed]",
      "text/plain": [
       "<Figure size 439.5x360 with 1 Axes>"
      ]
     },
     "metadata": {
      "needs_background": "light"
     },
     "output_type": "display_data"
    }
   ],
   "source": [
    "%matplotlib inline\n",
    "import seaborn as sns\n",
    "import matplotlib.pyplot as plt\n",
    "sns.displot(df, x=\"serum_creatinine\", hue=\"DEATH_EVENT\")\n",
    "plt.show()"
   ]
  },
  {
   "cell_type": "markdown",
   "metadata": {},
   "source": [
    "### Build a classifier\n",
    "\n",
    "\n",
    "We will build a logistic regression classifier. Next we will evaluate the logistic regression classifier using the confusion matrix. Lastly we create a new patient and predict if the patient will survive. "
   ]
  },
  {
   "cell_type": "markdown",
   "metadata": {},
   "source": [
    "\n",
    "The df dataframe is the dataframe containing all the raw data (numbers). We will use this to fill the feature matrix $X$ and the vector $y$ with the labeled class. \n",
    "\n",
    "\n",
    "\\begin{equation}\n",
    "X = \n",
    "   \\begin{bmatrix} \\\n",
    "    x_1^{(1)}  & x_2^{(1)} & x_3^{(1)} & .. & x_n^{(1)}\\\\\n",
    "    x_1^{(2)}  & x_2^{(2)} & x_3^{(2)} & .. & x_n^{(2)}\\\\ \n",
    "    x_1^{(3)}  & x_2^{(3)} & x_3^{(3)} & .. & x_n^{(3)} \\\\ \n",
    "    .. & .. & .. & .. & ..\\\\ \n",
    "    x_1^{(m)}  & x_2^{(m)} & x_3^{(m)}  & .. & x_n^{(m)}\\\\ \n",
    "   \\end{bmatrix} \n",
    "   \\\n",
    "   %\n",
    "   y = \n",
    "   \\begin{bmatrix} \\\n",
    "   y^{(1)} \\\\\n",
    "   y^{(2)} \\\\ \n",
    "   y^{(3)} \\\\ \n",
    "   .. \\\\ \n",
    "   y^{(m)} \\\\ \n",
    "   \\end{bmatrix} \n",
    "  %\n",
    "\\end{equation}\n",
    "\n"
   ]
  },
  {
   "cell_type": "code",
   "execution_count": 13,
   "metadata": {
    "scrolled": true
   },
   "outputs": [
    {
     "data": {
      "text/plain": [
       "LogisticRegression()"
      ]
     },
     "execution_count": 13,
     "metadata": {},
     "output_type": "execute_result"
    }
   ],
   "source": [
    "# Build model \n",
    "#preprosses data \n",
    "y = np.array(df['DEATH_EVENT'])\n",
    "X = df.iloc[:,[0,1,2,3,4,5,6,7,8,9,10]] #without feature selection\n",
    "\n",
    "#normalise \n",
    "from sklearn.preprocessing import StandardScaler\n",
    "\n",
    "def normalize(X):\n",
    "    scalar = StandardScaler()\n",
    "    scalar = scalar.fit(X)\n",
    "    X = scalar.transform(X)\n",
    "    return X\n",
    "\n",
    "X = normalize(X)\n",
    "X.shape\n",
    "\n",
    "#split \n",
    "from sklearn.model_selection import train_test_split\n",
    "X_train, X_test, y_train, y_test = train_test_split(X, y, test_size = 0.2)\n",
    "\n",
    "#train  \n",
    "from sklearn.linear_model import LogisticRegression\n",
    "model = LogisticRegression()\n",
    "model.fit(X_train, y_train)"
   ]
  },
  {
   "cell_type": "code",
   "execution_count": 18,
   "metadata": {},
   "outputs": [
    {
     "name": "stdout",
     "output_type": "stream",
     "text": [
      "0.6021  age\n",
      "0.3509  anaemia\n",
      "0.2897  creatinine_phosphokinase\n",
      "0.02878  diabetes\n",
      "-1.04  ejection_fraction\n",
      "0.2561  high_blood_pressure\n",
      "-0.155  platelets\n",
      "0.8209  serum_creatinine\n",
      "-0.187  serum_sodium\n",
      "-0.1607  sex\n",
      "-0.007137  smoking\n"
     ]
    }
   ],
   "source": [
    "# optional verify feature weights\n",
    "for i in model.coef_:\n",
    "       for index, j in enumerate(i):        \n",
    "            print(f\"{j:.4}  {list(df.columns.values)[index]}\")\n",
    "# You will see that age, ejection_fraction and serum_creatinine are driving the outcome the most"
   ]
  },
  {
   "cell_type": "code",
   "execution_count": 19,
   "metadata": {},
   "outputs": [
    {
     "name": "stdout",
     "output_type": "stream",
     "text": [
      "[[35  5]\n",
      " [11  9]]\n",
      "              precision    recall  f1-score   support\n",
      "\n",
      "           0       0.76      0.88      0.81        40\n",
      "           1       0.64      0.45      0.53        20\n",
      "\n",
      "    accuracy                           0.73        60\n",
      "   macro avg       0.70      0.66      0.67        60\n",
      "weighted avg       0.72      0.73      0.72        60\n",
      "\n"
     ]
    }
   ],
   "source": [
    "# evaluate the model\n",
    "from sklearn.metrics import classification_report\n",
    "from sklearn.metrics import confusion_matrix\n",
    "\n",
    "y_pred = model.predict(X_test)\n",
    "confusion_matrix = confusion_matrix(y_test, y_pred)\n",
    "print(confusion_matrix)\n",
    "print(classification_report(y_test, y_pred))\n",
    "# Accuracy is not that high Indeed negatives are predicted better then positives. \n",
    "\n"
   ]
  },
  {
   "cell_type": "code",
   "execution_count": 20,
   "metadata": {},
   "outputs": [
    {
     "name": "stdout",
     "output_type": "stream",
     "text": [
      "test  acc: 0.7333333333333333\n",
      "train acc: 0.7866108786610879\n"
     ]
    },
    {
     "data": {
      "image/png": "[encoded data removed]",
      "text/plain": [
       "<Figure size 432x288 with 1 Axes>"
      ]
     },
     "metadata": {
      "needs_background": "light"
     },
     "output_type": "display_data"
    }
   ],
   "source": [
    " # function to evaluate\n",
    "from sklearn.metrics import classification_report\n",
    "from sklearn.metrics import confusion_matrix\n",
    "from sklearn.metrics import mean_squared_error\n",
    "from sklearn.model_selection import learning_curve\n",
    "\n",
    "def plot_learning_curves(model, X_train, y_train, X_val, y_val):\n",
    "    \"\"\"\n",
    "    input:\n",
    "        model:pipeline object\n",
    "        X_train, y_train: training data\n",
    "        X_val, y_val: test data\n",
    "    \"\"\"\n",
    "    train_errors, val_errors = [], []\n",
    "    for m in range(30, len(X_train)):\n",
    "        model.fit(X_train[:m], y_train[:m])\n",
    "        y_train_predict = model.predict(X_train[:m])\n",
    "        y_val_predict = model.predict(X_val)\n",
    "        train_errors.append(mean_squared_error(y_train_predict, y_train[:m]))\n",
    "        val_errors.append(mean_squared_error(y_val_predict, y_val))\n",
    "\n",
    "    plt.plot(np.sqrt(train_errors), \"r-+\", linewidth=1, label=\"training data\")\n",
    "    plt.plot(np.sqrt(val_errors), \"b-\", linewidth=1, label=\"validation data\")\n",
    "    plt.legend(loc=\"upper right\", fontsize=10)   \n",
    "    plt.xlabel(\"Training set size\", fontsize=10) \n",
    "    plt.ylabel(\"RMSE\", fontsize=10)     \n",
    "    # compare accuracy train versus test to access overfit \n",
    "    print(f'test  acc: {model.score(X_val, y_val)}')\n",
    "    print(f'train acc: {model.score(X_train, y_train)}')\n",
    "    \n",
    "    \n",
    "plot_learning_curves(model, X_train, y_train, X_test, y_test)"
   ]
  },
  {
   "cell_type": "code",
   "execution_count": 21,
   "metadata": {},
   "outputs": [
    {
     "name": "stdout",
     "output_type": "stream",
     "text": [
      "[[39  4]\n",
      " [ 8  9]]\n",
      "              precision    recall  f1-score   support\n",
      "\n",
      "           0       0.83      0.91      0.87        43\n",
      "           1       0.69      0.53      0.60        17\n",
      "\n",
      "    accuracy                           0.80        60\n",
      "   macro avg       0.76      0.72      0.73        60\n",
      "weighted avg       0.79      0.80      0.79        60\n",
      "\n",
      "[[ 0.59047315 -0.89701892  0.70281006]]\n"
     ]
    }
   ],
   "source": [
    "# and or new model with feature selection \n",
    "y = np.array(df['DEATH_EVENT'])\n",
    "X = df.iloc[:,[0,4,7]]\n",
    "#normalise\n",
    "from sklearn.preprocessing import StandardScaler\n",
    "\n",
    "def normalize(X):\n",
    "    scalar = StandardScaler()\n",
    "    scalar = scalar.fit(X)\n",
    "    X = scalar.transform(X)\n",
    "    return X\n",
    "\n",
    "X = normalize(X)\n",
    "#split\n",
    "from sklearn.model_selection import train_test_split\n",
    "X_train, X_test, y_train, y_test = train_test_split(X, y, test_size = 0.2)\n",
    "\n",
    "#train LogisticRegression\n",
    "new_model = LogisticRegression()\n",
    "new_model.fit(X_train, y_train)\n",
    "# evaluate the model. Is your assumption of contribution features correct based on the outcome?\n",
    "from sklearn.metrics import classification_report\n",
    "from sklearn.metrics import confusion_matrix\n",
    "\n",
    "y_pred = new_model.predict(X_test)\n",
    "confusion_matrix = confusion_matrix(y_test, y_pred)\n",
    "print(confusion_matrix)\n",
    "print(classification_report(y_test, y_pred))\n",
    "# optional\n",
    "\n",
    "print(new_model.coef_)"
   ]
  },
  {
   "cell_type": "code",
   "execution_count": 22,
   "metadata": {},
   "outputs": [
    {
     "name": "stdout",
     "output_type": "stream",
     "text": [
      "survivalrate: 0.999\n"
     ]
    }
   ],
   "source": [
    "print(f\"survivalrate: {round(new_model.predict_proba([[25, 25, 2.0]])[0][0], 3)}\") "
   ]
  },
  {
   "cell_type": "markdown",
   "metadata": {},
   "source": [
    "### improving the model\n",
    "\n",
    "What might be another classifier suitable for the dataset and the problem? "
   ]
  },
  {
   "cell_type": "code",
   "execution_count": 23,
   "metadata": {},
   "outputs": [],
   "source": [
    "#1 Decision trees often perform well on imbalanced datasets because their hierarchical structure allows \n",
    "#  them to learn signals from both classes.\n",
    "#2 cross validation is advisable because of the small sample. "
   ]
  },
  {
   "cell_type": "code",
   "execution_count": 24,
   "metadata": {},
   "outputs": [],
   "source": [
    "from sklearn.ensemble import RandomForestClassifier, BaggingClassifier, AdaBoostClassifier, VotingClassifier"
   ]
  },
  {
   "cell_type": "code",
   "execution_count": 25,
   "metadata": {},
   "outputs": [
    {
     "name": "stdout",
     "output_type": "stream",
     "text": [
      "[[40  3]\n",
      " [ 8  9]]\n",
      "              precision    recall  f1-score   support\n",
      "\n",
      "           0       0.83      0.93      0.88        43\n",
      "           1       0.75      0.53      0.62        17\n",
      "\n",
      "    accuracy                           0.82        60\n",
      "   macro avg       0.79      0.73      0.75        60\n",
      "weighted avg       0.81      0.82      0.81        60\n",
      "\n"
     ]
    }
   ],
   "source": [
    "# improve model for instance with AdaBoost (applicabl for binary classes)\n",
    "adb = AdaBoostClassifier(LogisticRegression(), n_estimators = 10, learning_rate = 1)\n",
    "adb.fit(X_train, y_train)\n",
    "\n",
    "y_pred = adb.predict(X_test)\n",
    "\n",
    "from sklearn.metrics import classification_report\n",
    "from sklearn.metrics import confusion_matrix\n",
    "confusion_matrix = confusion_matrix(y_test, y_pred)\n",
    "print(confusion_matrix)\n",
    "print(classification_report(y_test, y_pred))\n"
   ]
  }
 ],
 "metadata": {
  "kernelspec": {
   "display_name": "Python 3 (ipykernel)",
   "language": "python",
   "name": "python3"
  },
  "language_info": {
   "codemirror_mode": {
    "name": "ipython",
    "version": 3
   },
   "file_extension": ".py",
   "mimetype": "text/x-python",
   "name": "python",
   "nbconvert_exporter": "python",
   "pygments_lexer": "ipython3",
   "version": "3.9.10"
  }
 },
 "nbformat": 4,
 "nbformat_minor": 2
}
