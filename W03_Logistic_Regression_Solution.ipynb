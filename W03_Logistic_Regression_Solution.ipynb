{
 "cells": [
  {
   "cell_type": "markdown",
   "metadata": {},
   "source": [
    "## Logistic Regression"
   ]
  },
  {
   "cell_type": "markdown",
   "metadata": {},
   "source": [
    "In this assignment we will work with a fictitious dataset. In this dataset, the admission of students is determined on the basis of two digits. The figures constitute the given input and the admission the final output. This is therefore a classification problem: on the basis of certain data (the figures) the students are divided into (in this case) two *classes* : admitted or non-admitted."
   ]
  },
  {
   "cell_type": "markdown",
   "metadata": {},
   "source": [
    "The steps we go through in each project are the following:\n",
    "\n",
    "- Load the data\n",
    "- Prepare the dataset\n",
    "- Model the data\n",
    "- Evaluate the results\n",
    "- Plot and evaluate the learning curves\n",
    "\n",
    "In the present case, the data has already been prepared for us, and for an accurate evaluation of our algorithm we do not yet have the right techniques. So we focus specifically on performing the logistic regression algorithm and displaying the result."
   ]
  },
  {
   "cell_type": "code",
   "execution_count": 1,
   "metadata": {},
   "outputs": [],
   "source": [
    "# needed packages\n",
    "import numpy as np\n",
    "import matplotlib.pyplot as plt\n",
    "import scipy.optimize as opt\n",
    "import pickle"
   ]
  },
  {
   "cell_type": "markdown",
   "metadata": {},
   "source": [
    "## 1. Load the data"
   ]
  },
  {
   "cell_type": "markdown",
   "metadata": {},
   "source": [
    "The given data can be found <a href=\"data/toelating.pkl\"> here </a>. This is again a pickle file, which allows you to load the data directly into numpy. Finish the cell below and run it to see what shape the matrix has loaded."
   ]
  },
  {
   "cell_type": "code",
   "execution_count": 2,
   "metadata": {},
   "outputs": [
    {
     "name": "stdout",
     "output_type": "stream",
     "text": [
      "(100, 3)\n"
     ]
    }
   ],
   "source": [
    "# YOUR CODE HERE\n",
    "\n",
    "\n",
    "with open('data/toelating.pkl','rb') as f:\n",
    "    data=pickle.load(f) \n",
    "    \n",
    "print(data.shape)"
   ]
  },
  {
   "cell_type": "markdown",
   "metadata": {},
   "source": [
    "As you can see, each line in the matrix has three values. The first two of these are the two digits and the last one indicates whether the student is admitted or not. Optionally use `data [1: 3,:]` or something similar to get an idea of the form of the data."
   ]
  },
  {
   "cell_type": "markdown",
   "metadata": {},
   "source": [
    "Like in the previous assignment, we will first plot the data. In this case, however, it is a bit more complex, because we also want to show the class to which the observation belongs. We want to show admitted students with a green dot and show unauthorized students with a red dot. To accomplish this, we must first filter the data. Use the `where` method from NumPy to get it together."
   ]
  },
  {
   "cell_type": "markdown",
   "metadata": {},
   "source": [
    "## 2. Inspect the data"
   ]
  },
  {
   "cell_type": "code",
   "execution_count": 3,
   "metadata": {},
   "outputs": [
    {
     "data": {
      "image/png": "[encoded data removed]",
      "text/plain": [
       "<Figure size 432x288 with 1 Axes>"
      ]
     },
     "metadata": {
      "needs_background": "light"
     },
     "output_type": "display_data"
    }
   ],
   "source": [
    "%matplotlib inline\n",
    "# select twice the data\n",
    "# data[:, 2] equal to 1 (admitted),\n",
    "# data[:, 2] equal to 0 (not admitted)\n",
    "\n",
    "# plot the data and add a legend\n",
    "\n",
    "# YOUR CODE HERE\n",
    "%matplotlib inline\n",
    "d1 = data[np.where(data[:, 2]==1)]\n",
    "d2 = data[np.where(data[:, 2]==0)]\n",
    "\n",
    "x1,y1 = d1[:, 0:2].T\n",
    "x2,y2 = d2[:, 0:2].T\n",
    "\n",
    "plt.scatter(x1,y1, c='g', label='Addmitted', marker='o')\n",
    "plt.scatter(x2,y2, c='r', label=\"Rejected\", marker='x')\n",
    "plt.ylabel('Mark 2')\n",
    "plt.xlabel('Mark 1') \n",
    "plt.legend()\n",
    "plt.show()"
   ]
  },
  {
   "cell_type": "markdown",
   "metadata": {},
   "source": [
    "## 3. Prepare the data (without splitting)"
   ]
  },
  {
   "cell_type": "markdown",
   "metadata": {},
   "source": [
    "In the following cell we extract the values from the variable `data`: we store the two digits in a matrix` X` and put the corresponding class (1 or 0) in the vector `y`. Then we add a row of ones to the matrix `X `so that we can perform the calculations vectorally. Finally, in the known way we set the variables `m` and` n`. The code is given; study what happens."
   ]
  },
  {
   "cell_type": "code",
   "execution_count": 4,
   "metadata": {},
   "outputs": [],
   "source": [
    "X,y = data[:,0:2], data[:, 2]\n",
    "X = np.c_[np.ones(X.shape[0]), X]\n",
    "m,n = X.shape\n",
    "theta = np.zeros(n)\n",
    "y = np.reshape(y, (m,1))"
   ]
  },
  {
   "cell_type": "markdown",
   "metadata": {},
   "source": [
    "To be sure, we print out the dimensionality of the different variables:"
   ]
  },
  {
   "cell_type": "code",
   "execution_count": 5,
   "metadata": {},
   "outputs": [
    {
     "name": "stdout",
     "output_type": "stream",
     "text": [
      "Shape X: (100, 3)\n",
      "Shape y: (100, 1)\n",
      "Shape theta: (3,)\n"
     ]
    }
   ],
   "source": [
    "print (\"Shape X: {}\".format(X.shape))\n",
    "print (\"Shape y: {}\".format(y.shape))\n",
    "print (\"Shape theta: {}\".format(theta.shape))"
   ]
  },
  {
   "cell_type": "markdown",
   "metadata": {},
   "source": [
    "As you can see, `theta` has an unexpected form:` (3,) `. We need to reshape this"
   ]
  },
  {
   "cell_type": "code",
   "execution_count": 6,
   "metadata": {},
   "outputs": [
    {
     "name": "stdout",
     "output_type": "stream",
     "text": [
      "(3, 1)\n"
     ]
    }
   ],
   "source": [
    "print(np.reshape(theta, (3,1)).shape)"
   ]
  },
  {
   "cell_type": "markdown",
   "metadata": {},
   "source": [
    "## 4. Model - Sigmoid"
   ]
  },
  {
   "cell_type": "markdown",
   "metadata": {},
   "source": [
    "As discussed during the lecture for classification problems we need the sigmoid function:\n",
    "\n",
    "$$ g (z) = \\ frac {1} {1 + e ^ {- z}} $$\n",
    "\n",
    "Implement the function in the cell below. Make it so that you can add both a number and a vector to it. In the first case, the function must return the sigmoid value of the number, in the second case it must return a vector containing the sigmoid value of each individual element in the input vector. You can use the numpy function `exp ()`. The cell below invokes this function with different values and different shapes. The expected results are included."
   ]
  },
  {
   "cell_type": "code",
   "execution_count": 7,
   "metadata": {},
   "outputs": [],
   "source": [
    "def sigmoid(z):\n",
    "    # YOUR CODE HERE\n",
    "    return  1 / (1 + np.exp(-z))\n",
    "    #pass"
   ]
  },
  {
   "cell_type": "markdown",
   "metadata": {},
   "source": [
    "To check the function create a plot"
   ]
  },
  {
   "cell_type": "code",
   "execution_count": 8,
   "metadata": {},
   "outputs": [
    {
     "data": {
      "text/plain": [
       "[<matplotlib.lines.Line2D at 0x11f5668e0>]"
      ]
     },
     "execution_count": 8,
     "metadata": {},
     "output_type": "execute_result"
    },
    {
     "data": {
      "image/png": "[encoded data removed]",
      "text/plain": [
       "<Figure size 576x432 with 1 Axes>"
      ]
     },
     "metadata": {
      "needs_background": "light"
     },
     "output_type": "display_data"
    }
   ],
   "source": [
    "nums = np.arange(-10, 10, step=.5)\n",
    "\n",
    "fig, ax = plt.subplots(figsize=(8,6))\n",
    "ax.plot(nums, sigmoid(nums), 'r')"
   ]
  },
  {
   "cell_type": "markdown",
   "metadata": {},
   "source": [
    "Now create the method `prediction` in the cell below. This method uses the `sigmoid` method you created above to predict the class given the current value of $ \\ theta $. Because we use the sigmoid function, this prediction always produces a value between 0 and 1. The form we use for this is\n",
    "\n",
    "$$ h _ {\\theta} (x) = g (\\theta ^ Tx) $$"
   ]
  },
  {
   "cell_type": "code",
   "execution_count": 9,
   "metadata": {},
   "outputs": [
    {
     "data": {
      "text/plain": [
       "array([0.5, 0.5, 0.5])"
      ]
     },
     "execution_count": 9,
     "metadata": {},
     "output_type": "execute_result"
    }
   ],
   "source": [
    "def prediction(theta, X):\n",
    "    # YOUR CODE HERE\n",
    "    return sigmoid(np.dot(X, theta.T))\n",
    "    #pass\n",
    "\n",
    "\n",
    "prediction(theta, X[1:4, :])\n",
    "# should return array([0.5, 0.5, 0.5])\n"
   ]
  },
  {
   "cell_type": "markdown",
   "metadata": {},
   "source": [
    "## 4. Model cost and gradient descent"
   ]
  },
  {
   "cell_type": "markdown",
   "metadata": {},
   "source": [
    "Now implement the cost function for the logistic regression. During the theoretical part, it was discussed that this function is defined as follows:\n",
    "\n",
    "$$ J (\\theta) = - \\frac {1} {m} \\sum_ {i = 1} ^ m \\left [y ^ {(i)} log (h_ \\theta (x ^ {(i)}) ) + (1-y ^ {(i)}) log (1-h_ \\theta (x ^ {(i)})) \\right] $$\n",
    "\n",
    "\n",
    "Use the `prediction` method you created above. In the cell, initial values of $ \\ theta $ are set and the function `computeCost` is called. The corresponding values of $ J $ are shown here"
   ]
  },
  {
   "cell_type": "code",
   "execution_count": 10,
   "metadata": {},
   "outputs": [
    {
     "name": "stdout",
     "output_type": "stream",
     "text": [
      "value of J with given non zero values: 0.2183\n",
      "This should be around 0.22\n",
      "\n",
      "cost J with all zeros: 0.6931\n",
      "This should be around 0.69.\n"
     ]
    }
   ],
   "source": [
    "def computeCost(theta, X, y):\n",
    "    m,n = X.shape\n",
    "    theta = np.reshape(theta, (1,n))\n",
    "    pred = prediction(theta, X);\n",
    "    J = (y * np.log(pred) + (1-y) * np.log(1-pred))\n",
    "    return np.mean(-J)\n",
    "\n",
    "\n",
    "# test values voor theta\n",
    "theta = np.array( ([-24, 0.2, 0.2]))\n",
    "J = computeCost(theta, X, y)\n",
    "print(\"value of J with given non zero values: {:.4f}\".format(J))\n",
    "print (\"This should be around 0.22\\n\")\n",
    "\n",
    "# terugzetten van de initiële waarden van theta\n",
    "theta = np.zeros(n)\n",
    "J = computeCost(theta, X, y)\n",
    "print(\"cost J with all zeros: {:.4f}\".format(J))\n",
    "print (\"This should be around 0.69.\")"
   ]
  },
  {
   "cell_type": "markdown",
   "metadata": {},
   "source": [
    "For the regression, we need to know what the derivative is for a specific point on the cost function. By using this derivative (the *gradient*) we can determine which \"side\" the values of $ \\theta $ must go to to get closer to the zero point. As discussed, the derivative of the cost function is\n",
    "\n",
    "\n",
    "$$ \\theta_j: = \\theta_j - \\frac {1} {m} \\sum_ {i = 1} ^ {m} (h_ \\theta (x ^ {(i)}) - y ^ {(i)}) x ^ {(i)} _ j $$\n",
    "\n",
    "This is indeed the same as that for linear regression; the only difference is that the value of $ h _ {\\theta} (x) $ is calculated differently here."
   ]
  },
  {
   "cell_type": "markdown",
   "metadata": {},
   "source": [
    "Complete the `gradient` method below. When you are done with this, this method is called from this cell. The result can be interpreted as the *direction* that the different dimensions (the values in `X`) must go in to get closer to the zero point."
   ]
  },
  {
   "cell_type": "code",
   "execution_count": 11,
   "metadata": {},
   "outputs": [
    {
     "data": {
      "text/plain": [
       "array([[ -0.1       , -12.00921659, -11.26284221]])"
      ]
     },
     "execution_count": 11,
     "metadata": {},
     "output_type": "execute_result"
    }
   ],
   "source": [
    "def gradient(theta, X, y):\n",
    "    m,n = X.shape\n",
    "    theta = theta.reshape(1,n)\n",
    "    grad = np.zeros(n)   \n",
    "    error = sigmoid(np.dot(X,  theta.T)) - y\n",
    "\n",
    "    return np.dot(error.T, X)/m\n",
    "\n",
    "\n",
    "# Performing one step in the gradient ...\n",
    "\n",
    "gradient (theta, X, y)\n",
    "\n",
    "# should result\n",
    "# array ([[-0.1, -12.00921659, -11.26284221]])"
   ]
  },
  {
   "cell_type": "markdown",
   "metadata": {},
   "source": [
    "##  Logistic regression using gradient descent"
   ]
  },
  {
   "cell_type": "markdown",
   "metadata": {},
   "source": [
    "In the `gradient` method we made above, we do not really perform the regression - we only take one step towards the minimum. We can program that regression all by ourselves, but it is easier to use the <a href=\"https://docs.scipy.org/doc/scipy/reference/generated/scipy.optimize.fmin_tnc.html\"> method fmin_tnc from SciPy </a>. This method has a number of parameters that indicate how the minimum can be reached:\n",
    "\n",
    "- `func`: the method that indicates the cost of the current iteration\n",
    "- `x0`: the initial values of the 'weights'\n",
    "- `fprime`: the function that indicates how to adjust the different weights to get closer to the zero point\n",
    "- `args`: a tuple of the arguments you throw in the different functions (X, y)\n",
    "\n",
    "You can simply call the `opt.fmin_tnc` method in the cell below - the package has already been imported above. The method returns new values for the weights. Put these new values in the variable `result`."
   ]
  },
  {
   "cell_type": "code",
   "execution_count": 12,
   "metadata": {},
   "outputs": [
    {
     "name": "stdout",
     "output_type": "stream",
     "text": [
      "(array([-25.16131874,   0.20623159,   0.20147149]), 36, 0)\n"
     ]
    },
    {
     "name": "stderr",
     "output_type": "stream",
     "text": [
      "  NIT   NF   F                       GTG\n",
      "    0    1  6.931471805599453E-01   2.71082898E+02\n",
      "    1    3  6.318123602631194E-01   7.89087138E-01\n",
      "    2    5  5.892425326362726E-01   7.39225547E+01\n",
      "    3    7  4.227824608953797E-01   1.85266753E+01\n",
      "    4    9  4.072926781693896E-01   1.68671203E+01\n",
      "    5   11  3.818855030692282E-01   1.07734906E+01\n",
      "    6   13  3.786234752689955E-01   2.31585045E+01\n",
      "tnc: stepmx = 1000\n",
      "    7   16  2.389267093604698E-01   3.00819990E+00\n",
      "    8   18  2.047203804312256E-01   1.52222299E-01\n",
      "    9   20  2.046713845199396E-01   6.62487672E-02\n",
      "   10   22  2.035303183049366E-01   9.30768710E-04\n",
      "tnc: fscale = 32.7777\n",
      "   11   24  2.035293542043470E-01   8.07615409E-06\n",
      "   12   26  2.035251141936724E-01   1.80164995E-04\n",
      "   13   28  2.034984099470429E-01   5.02690022E-04\n",
      "   14   30  2.034978374800543E-01   9.86626260E-06\n",
      "   15   32  2.034977903570774E-01   3.76724155E-06\n",
      "   16   34  2.034977384099874E-01   1.93525141E-05\n",
      "   17   36  2.034977015894740E-01   2.47530049E-13\n",
      "tnc: |pg| = 1.51787e-08 -> local minimum\n",
      "   17   36  2.034977015894740E-01   2.47530049E-13\n",
      "tnc: Local minima reach (|pg| ~= 0)\n"
     ]
    }
   ],
   "source": [
    "result = None # replace with call opt.fmin_tnc\n",
    "result = opt.fmin_tnc(func=computeCost, x0=theta, fprime=gradient, args=(X, y))\n",
    "print (result)\n",
    "\n",
    "\n",
    "# should have result like this \n",
    "# (array([-25.16131854,   0.20623159,   0.20147149]), 36, 0)\n",
    "# exact values might differ"
   ]
  },
  {
   "cell_type": "markdown",
   "metadata": {},
   "source": [
    "## 5. Results"
   ]
  },
  {
   "cell_type": "markdown",
   "metadata": {},
   "source": [
    "Below we retrieve the results of the minimization and store them in `theta_res` (of 'result') and see what the cost of the new value is. Then we plot the data again, but now with the * decision boundary *."
   ]
  },
  {
   "cell_type": "code",
   "execution_count": 13,
   "metadata": {},
   "outputs": [
    {
     "data": {
      "text/plain": [
       "0.20349770158947403"
      ]
     },
     "execution_count": 13,
     "metadata": {},
     "output_type": "execute_result"
    }
   ],
   "source": [
    "theta_res = result[0]\n",
    "computeCost(theta_res, X, y)"
   ]
  },
  {
   "cell_type": "markdown",
   "metadata": {},
   "source": [
    "The cost that they had was 0.69, so this is a whole improvement over the one theta with only zeros."
   ]
  },
  {
   "cell_type": "code",
   "execution_count": 14,
   "metadata": {},
   "outputs": [],
   "source": [
    "# draw decision boundary\n",
    "plot_x = np.array( ([np.min(X[:,1]-2), np.max(X[:,1]+2)]) )\n",
    "plot_y = -1/theta_res[2] * (theta_res[1] * plot_x + theta_res[0])"
   ]
  },
  {
   "cell_type": "code",
   "execution_count": 15,
   "metadata": {},
   "outputs": [
    {
     "data": {
      "image/png": "[encoded data removed]",
      "text/plain": [
       "<Figure size 432x288 with 1 Axes>"
      ]
     },
     "metadata": {
      "needs_background": "light"
     },
     "output_type": "display_data"
    }
   ],
   "source": [
    "d1 = data[np.where(data[:, 2]==1)]\n",
    "d2 = data[np.where(data[:, 2]==0)]\n",
    "\n",
    "x1,y1 = d1[:, 0:2].T\n",
    "x2,y2 = d2[:, 0:2].T\n",
    "\n",
    "plt.scatter(x1,y1, c='g', label='Admitted', marker='o')\n",
    "plt.scatter(x2,y2, c='r', label=\"Rejected\", marker='x')\n",
    "plt.plot(plot_x, plot_y) \n",
    "plt.ylabel('Mark 2')\n",
    "plt.xlabel('mark 1') \n",
    "plt.legend()\n",
    "plt.show()"
   ]
  },
  {
   "cell_type": "code",
   "execution_count": null,
   "metadata": {},
   "outputs": [],
   "source": []
  }
 ],
 "metadata": {
  "kernelspec": {
   "display_name": "Python 3 (ipykernel)",
   "language": "python",
   "name": "python3"
  },
  "language_info": {
   "codemirror_mode": {
    "name": "ipython",
    "version": 3
   },
   "file_extension": ".py",
   "mimetype": "text/x-python",
   "name": "python",
   "nbconvert_exporter": "python",
   "pygments_lexer": "ipython3",
   "version": "3.9.10"
  }
 },
 "nbformat": 4,
 "nbformat_minor": 2
}
