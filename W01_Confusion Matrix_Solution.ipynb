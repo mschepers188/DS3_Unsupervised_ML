{
 "cells": [
  {
   "cell_type": "markdown",
   "metadata": {},
   "source": [
    "# Confusion Matrix"
   ]
  },
  {
   "cell_type": "markdown",
   "metadata": {},
   "source": [
    "## Setup"
   ]
  },
  {
   "cell_type": "code",
   "execution_count": 1,
   "metadata": {},
   "outputs": [],
   "source": [
    "import matplotlib.pyplot as plt\n",
    "import numpy as np\n",
    "import tensorflow as tf\n",
    "from tensorflow import keras\n",
    "from random import randint\n",
    "\n",
    "%matplotlib inline\n",
    "\n",
    "def plot_matrix(data):\n",
    "    plt.figure()\n",
    "    plt.matshow(data)\n",
    "    plt.show()\n",
    "    \n",
    "def scale_data(X):\n",
    "    m = np.max(X)\n",
    "    return X/m"
   ]
  },
  {
   "cell_type": "code",
   "execution_count": 3,
   "metadata": {},
   "outputs": [
    {
     "name": "stdout",
     "output_type": "stream",
     "text": [
      "Done.\n"
     ]
    }
   ],
   "source": [
    "data = keras.datasets.fashion_mnist \n",
    "(train_images, train_labels), (test_images, test_labels) = data.load_data()\n",
    "labels = ['T-shirt', 'Trouser', 'Pullover', 'Dress', 'Coat', 'Sandals', 'Shirt', 'Sneaker', 'Bag', 'Boot'] \n",
    "print (\"Done.\")"
   ]
  },
  {
   "cell_type": "code",
   "execution_count": 4,
   "metadata": {},
   "outputs": [
    {
     "name": "stdout",
     "output_type": "stream",
     "text": [
      "Format train_images: (60000, 28, 28)\n",
      "Formattrain_labels: (60000,)\n",
      "Format test_images: (10000, 28, 28)\n",
      "Formattest_labels: (10000,)\n",
      "Size labels: 10\n"
     ]
    }
   ],
   "source": [
    "print (f\"Format train_images: {train_images.shape}\")\n",
    "print (f\"Formattrain_labels: {train_labels.shape}\")\n",
    "print (f\"Format test_images: {test_images.shape}\")\n",
    "print (f\"Formattest_labels: {test_labels.shape}\")\n",
    "print (f\"Size labels: {len(labels)}\")"
   ]
  },
  {
   "cell_type": "code",
   "execution_count": 5,
   "metadata": {},
   "outputs": [
    {
     "data": {
      "image/png": "[encoded data removed]",
      "text/plain": [
       "<Figure size 432x288 with 1 Axes>"
      ]
     },
     "metadata": {
      "needs_background": "light"
     },
     "output_type": "display_data"
    }
   ],
   "source": [
    "def plot_image(img, label):\n",
    "    plt.figure()\n",
    "    plt.imshow(img, cmap=plt.cm.binary)\n",
    "    plt.xlabel(label)\n",
    "    plt.show()\n",
    "\n",
    "rnd = randint(0, train_images.shape[0])\n",
    "hyp = labels[train_labels[rnd]]\n",
    "plot_image(train_images[rnd], hyp)"
   ]
  },
  {
   "cell_type": "code",
   "execution_count": 6,
   "metadata": {},
   "outputs": [],
   "source": [
    "train_images = scale_data(train_images)\n",
    "test_images = scale_data(test_images)"
   ]
  },
  {
   "cell_type": "code",
   "execution_count": 7,
   "metadata": {},
   "outputs": [
    {
     "name": "stderr",
     "output_type": "stream",
     "text": [
      "2022-04-24 13:14:13.948690: I tensorflow/core/common_runtime/pluggable_device/pluggable_device_factory.cc:305] Could not identify NUMA node of platform GPU ID 0, defaulting to 0. Your kernel may not have been built with NUMA support.\n",
      "2022-04-24 13:14:13.949136: I tensorflow/core/common_runtime/pluggable_device/pluggable_device_factory.cc:271] Created TensorFlow device (/job:localhost/replica:0/task:0/device:GPU:0 with 0 MB memory) -> physical PluggableDevice (device: 0, name: METAL, pci bus id: <undefined>)\n"
     ]
    },
    {
     "name": "stdout",
     "output_type": "stream",
     "text": [
      "Metal device set to: Apple M1\n"
     ]
    }
   ],
   "source": [
    "model = keras.Sequential([\n",
    "        keras.layers.Flatten(input_shape=(28, 28)),\n",
    "        keras.layers.Dense(128, activation=tf.nn.relu),\n",
    "        keras.layers.Dense(len(labels), activation=tf.nn.softmax)\n",
    "])\n",
    "model.compile(optimizer='adam',\n",
    "              loss='sparse_categorical_crossentropy',\n",
    "              metrics=['accuracy'])"
   ]
  },
  {
   "cell_type": "code",
   "execution_count": 8,
   "metadata": {},
   "outputs": [
    {
     "name": "stdout",
     "output_type": "stream",
     "text": [
      "Model: \"sequential\"\n",
      "_________________________________________________________________\n",
      " Layer (type)                Output Shape              Param #   \n",
      "=================================================================\n",
      " flatten (Flatten)           (None, 784)               0         \n",
      "                                                                 \n",
      " dense (Dense)               (None, 128)               100480    \n",
      "                                                                 \n",
      " dense_1 (Dense)             (None, 10)                1290      \n",
      "                                                                 \n",
      "=================================================================\n",
      "Total params: 101,770\n",
      "Trainable params: 101,770\n",
      "Non-trainable params: 0\n",
      "_________________________________________________________________\n"
     ]
    }
   ],
   "source": [
    "model.summary()"
   ]
  },
  {
   "cell_type": "code",
   "execution_count": 9,
   "metadata": {},
   "outputs": [
    {
     "name": "stdout",
     "output_type": "stream",
     "text": [
      "Epoch 1/6\n"
     ]
    },
    {
     "name": "stderr",
     "output_type": "stream",
     "text": [
      "2022-04-24 13:14:20.863100: W tensorflow/core/platform/profile_utils/cpu_utils.cc:128] Failed to get CPU frequency: 0 Hz\n",
      "2022-04-24 13:14:21.020291: I tensorflow/core/grappler/optimizers/custom_graph_optimizer_registry.cc:113] Plugin optimizer for device_type GPU is enabled.\n"
     ]
    },
    {
     "name": "stdout",
     "output_type": "stream",
     "text": [
      "1875/1875 [==============================] - 9s 4ms/step - loss: 0.4931 - accuracy: 0.8266\n",
      "Epoch 2/6\n",
      "1875/1875 [==============================] - 7s 4ms/step - loss: 0.3708 - accuracy: 0.8651\n",
      "Epoch 3/6\n",
      "1875/1875 [==============================] - 7s 4ms/step - loss: 0.3337 - accuracy: 0.8778\n",
      "Epoch 4/6\n",
      "1875/1875 [==============================] - 7s 4ms/step - loss: 0.3137 - accuracy: 0.8834\n",
      "Epoch 5/6\n",
      "1875/1875 [==============================] - 7s 4ms/step - loss: 0.2922 - accuracy: 0.8922\n",
      "Epoch 6/6\n",
      "1875/1875 [==============================] - 7s 4ms/step - loss: 0.2790 - accuracy: 0.8962\n"
     ]
    },
    {
     "data": {
      "text/plain": [
       "<keras.callbacks.History at 0x1751312e0>"
      ]
     },
     "execution_count": 9,
     "metadata": {},
     "output_type": "execute_result"
    }
   ],
   "source": [
    "model.fit(train_images, train_labels, epochs=6)"
   ]
  },
  {
   "cell_type": "markdown",
   "metadata": {},
   "source": [
    "## de confusion matrix"
   ]
  },
  {
   "cell_type": "code",
   "execution_count": 10,
   "metadata": {},
   "outputs": [
    {
     "name": "stderr",
     "output_type": "stream",
     "text": [
      "2022-04-24 13:15:13.988739: I tensorflow/core/grappler/optimizers/custom_graph_optimizer_registry.cc:113] Plugin optimizer for device_type GPU is enabled.\n"
     ]
    },
    {
     "name": "stdout",
     "output_type": "stream",
     "text": [
      "<class 'numpy.ndarray'>\n"
     ]
    },
    {
     "data": {
      "text/plain": [
       "<Figure size 432x288 with 0 Axes>"
      ]
     },
     "metadata": {},
     "output_type": "display_data"
    },
    {
     "data": {
      "image/png": "[encoded data removed]",
      "text/plain": [
       "<Figure size 288x288 with 1 Axes>"
      ]
     },
     "metadata": {
      "needs_background": "light"
     },
     "output_type": "display_data"
    }
   ],
   "source": [
    "def conf_matrix(labels, pred):\n",
    "    # Retourneer de econfusion matrix op basis van de gegeven voorspelling (pred) en de actuele\n",
    "    # waarden (labels). \n",
    "    # Check eventueel de documentatie van tf.math.confusion_matrix:\n",
    "    # https://www.tensorflow.org/api_docs/python/tf/math/confusion_matrix\n",
    "    \n",
    "    return tf.math.confusion_matrix(labels, pred)    \n",
    "\n",
    "pred = np.argmax(model.predict(test_images), axis=1)\n",
    "data = np.array(conf_matrix(test_labels, pred))\n",
    "print(type(data))\n",
    "plot_matrix(data)"
   ]
  },
  {
   "cell_type": "code",
   "execution_count": 11,
   "metadata": {},
   "outputs": [
    {
     "name": "stdout",
     "output_type": "stream",
     "text": [
      "[[814   9  34  24   6   0  98   0  15   0]\n",
      " [  0 979   0  14   3   0   4   0   0   0]\n",
      " [ 10   3 825  10  96   0  56   0   0   0]\n",
      " [ 19  26  14 862  43   0  29   0   6   1]\n",
      " [  0   2 130  29 776   0  59   0   4   0]\n",
      " [  0   0   0   1   0 970   0   9   1  19]\n",
      " [139   6 124  24  58   0 636   0  13   0]\n",
      " [  0   0   0   0   0  30   0 911   1  58]\n",
      " [  2   0   6   4   2   2   3   1 980   0]\n",
      " [  0   0   0   0   0   8   1  21   0 970]]\n",
      "[ 984 1025 1133  968  984 1010  886  942 1020 1048]\n",
      "[1000 1000 1000 1000 1000 1000 1000 1000 1000 1000]\n",
      "[8830 8954 8692 8894 8792 8960 8750 8969 8960 8922]\n"
     ]
    }
   ],
   "source": [
    "print(data)\n",
    "TP = np.diagonal(data)\n",
    "print (np.sum(data, axis=0))\n",
    "\n",
    "FP = np.sum(data, axis=0) - TP\n",
    "FN = np.sum(data, axis=1) - TP\n",
    "print (np.sum(data, axis=1))\n",
    "TN = data.sum() - TP - FP - FN\n",
    "\n",
    "print (TN)\n",
    "\n"
   ]
  },
  {
   "cell_type": "markdown",
   "metadata": {},
   "source": [
    "##  TP, TN, FP, FN"
   ]
  },
  {
   "cell_type": "markdown",
   "metadata": {},
   "source": [
    "<p style=\"text-align:center\">$\\text{tp}_{i} = c_{ii}$</p>\n",
    "<p style=\"text-align:center\">$\\text{fp}_{i} = \\sum_{l=1}^n c_{li} - \\text{tp}_{i}$</p>\n",
    "<p style=\"text-align:center\">$\\text{fn}_{i} = \\sum_{l=1}^n c_{il} - \\text{tp}_{i}$<br/></p>\n",
    "<p style=\"text-align:center\">$\\text{tn}_{i} = \\sum_{l=1}^n \\sum_{k=1}^n c_{lk} - \\text{tp}_{i} - \\text{fp}_{i} - \\text{fn}_{i}$</p>\n"
   ]
  },
  {
   "cell_type": "code",
   "execution_count": 12,
   "metadata": {},
   "outputs": [
    {
     "data": {
      "text/plain": [
       "[('T-shirt', 814, 170, 186, 8830),\n",
       " ('Trouser', 979, 46, 21, 8954),\n",
       " ('Pullover', 825, 308, 175, 8692),\n",
       " ('Dress', 862, 106, 138, 8894),\n",
       " ('Coat', 776, 208, 224, 8792),\n",
       " ('Sandals', 970, 40, 30, 8960),\n",
       " ('Shirt', 636, 250, 364, 8750),\n",
       " ('Sneaker', 911, 31, 89, 8969),\n",
       " ('Bag', 980, 40, 20, 8960),\n",
       " ('Boot', 970, 78, 30, 8922)]"
      ]
     },
     "execution_count": 12,
     "metadata": {},
     "output_type": "execute_result"
    }
   ],
   "source": [
    "def conf_els(conf, labels): \n",
    "    # https://docs.scipy.org/doc/numpy/reference/generated/numpy.diagonal.html\n",
    "    tot = conf.sum().sum()\n",
    "    cols = conf.sum(axis=0)\n",
    "    rows = conf.sum(axis=1)\n",
    "\n",
    "    tp = conf.diagonal()\n",
    "    fp = cols-tp\n",
    "    fn = rows-tp\n",
    "    tn = tot - tp - fp - fn\n",
    "    \n",
    "    res = list(zip(labels,tp,fp,fn,tn))\n",
    "    return res\n",
    "\n",
    "\n",
    "\n",
    "conf_els(data,labels)"
   ]
  },
  {
   "cell_type": "markdown",
   "metadata": {},
   "source": [
    "<p style=\"text-align:center\">$\\text{sensitivity (TPR)} = \\frac{tp}{tp + fn}$</p>\n",
    "<p style=\"text-align:center\">$\\text{precision (PPV)} = \\frac{tp}{tp + fp}$</p>\n",
    "<p style=\"text-align:center\">$\\text{specificity (TNR)} = \\frac{tn}{tn + fp}$</p>\n",
    "<p style=\"text-align:center\">$\\text{fall-out (FPR)} = \\frac{fp}{fp + tn}$</p>"
   ]
  },
  {
   "cell_type": "code",
   "execution_count": 13,
   "metadata": {},
   "outputs": [],
   "source": [
    "def conf_data(metrics):\n",
    "\n",
    "    tp = sum([foo[1] for foo in metrics])\n",
    "    fp = sum([foo[2] for foo in metrics])\n",
    "    fn = sum([foo[3] for foo in metrics])\n",
    "    tn = sum([foo[4] for foo in metrics])\n",
    "\n",
    "    rv = {}\n",
    "    rv['tpr'] = tp / (tp+fn)\n",
    "    rv['ppv'] = tp / (tp+fp)\n",
    "    rv['tnr'] = tn / (tn+fp)\n",
    "    rv['fpr'] = fp / (fp+tn)\n",
    "\n",
    "    return rv"
   ]
  },
  {
   "cell_type": "code",
   "execution_count": 15,
   "metadata": {},
   "outputs": [
    {
     "name": "stdout",
     "output_type": "stream",
     "text": [
      "Getting the confusion matrix:\n",
      "[('T-shirt', 814, 170, 186, 8830), ('Trouser', 979, 46, 21, 8954), ('Pullover', 825, 308, 175, 8692), ('Dress', 862, 106, 138, 8894), ('Coat', 776, 208, 224, 8792), ('Sandals', 970, 40, 30, 8960), ('Shirt', 636, 250, 364, 8750), ('Sneaker', 911, 31, 89, 8969), ('Bag', 980, 40, 20, 8960), ('Boot', 970, 78, 30, 8922)]\n",
      "Getting the different scores:\n",
      "{'tpr': 0.8723, 'ppv': 0.8723, 'tnr': 0.9858111111111111, 'fpr': 0.014188888888888888}\n"
     ]
    }
   ],
   "source": [
    "print (\"Getting the confusion matrix:\")\n",
    "metrics = conf_els(data,labels)\n",
    "print (metrics)\n",
    "print (\"Getting the different scores:\")\n",
    "scores = conf_data(metrics)\n",
    "print (scores)"
   ]
  },
  {
   "cell_type": "code",
   "execution_count": null,
   "metadata": {},
   "outputs": [],
   "source": []
  }
 ],
 "metadata": {
  "kernelspec": {
   "display_name": "Python 3 (ipykernel)",
   "language": "python",
   "name": "python3"
  },
  "language_info": {
   "codemirror_mode": {
    "name": "ipython",
    "version": 3
   },
   "file_extension": ".py",
   "mimetype": "text/x-python",
   "name": "python",
   "nbconvert_exporter": "python",
   "pygments_lexer": "ipython3",
   "version": "3.9.10"
  }
 },
 "nbformat": 4,
 "nbformat_minor": 4
}
