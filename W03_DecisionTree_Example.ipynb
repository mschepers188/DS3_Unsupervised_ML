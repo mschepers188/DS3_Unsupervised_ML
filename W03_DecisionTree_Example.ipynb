{
 "cells": [
  {
   "cell_type": "markdown",
   "id": "postal-error",
   "metadata": {},
   "source": [
    "# Model a decision tree classifier for tomatoes\n",
    "\n",
    "This notebook demonstrates how to build a decision tree classifier. In order to build and test the classifier the following steps are performed. \n",
    "\n",
    "1. Data is generated based on literature data. \n",
    "2. Data is inspected to verify whether the generated data is according the literature\n",
    "3. Data is visualized to gain more understanding about the data\n",
    "4. Data is prepared for the model to train\n",
    "5. Model is trained on the prepared data\n",
    "6. Model is used to test the working of the model\n",
    "7. Model is evaluated\n",
    "8. Model is improved"
   ]
  },
  {
   "cell_type": "code",
   "execution_count": 1,
   "id": "universal-defeat",
   "metadata": {},
   "outputs": [],
   "source": [
    "#import general libraries\n",
    "import random\n",
    "import os\n",
    "import numpy as np\n",
    "import matplotlib.pyplot as plt\n",
    "import pandas as pd\n",
    "from IPython.display import Image\n",
    "from subprocess import call"
   ]
  },
  {
   "cell_type": "markdown",
   "id": "economic-study",
   "metadata": {},
   "source": [
    "---"
   ]
  },
  {
   "cell_type": "markdown",
   "id": "certain-lightning",
   "metadata": {},
   "source": [
    "#  Data source\n",
    "\n",
    "The following data is collected: \n",
    "\n",
    "- kind of tomato\n",
    "- weight\n",
    "- diamter\n",
    "- kind of shape\n",
    "\n",
    "The values per kind of tomato are derived from the publication of Gastélum Barrios, Abraham & Bórquez, Rafael & Rico-García, Enrique & Toledano-Ayala, Manuel & Soto-Zarazúa, Genaro. (2011). Tomato quality evaluation with image processing: A review. African Journal of Agricultural Research. 6. \n",
    "\n",
    "<table><tr>\n",
    "  <td>\n",
    "  <img src=\"images/Weight-form-and-diameter-of-tomato-fruits-of-different-types-Jaramillo-et-al-2007.png\"  style=\"float:right\"/> \n",
    "  </td>\n",
    "  <td> \n",
    "  <img src=\"images/Forms-of-the-tomato-fruit-Source-Adapted-from-Jaramillo-et-al-2007.png\" style=\"float:left\"/> \n",
    "  </td>\n",
    "</tr></table>\n",
    "    \n",
    "\n"
   ]
  },
  {
   "cell_type": "markdown",
   "id": "recovered-immunology",
   "metadata": {},
   "source": [
    "# Generate data \n",
    "\n",
    "For demonstration purpose we will generate samples from the summary table in the article. The data is generated data, which is artificial data generated with numpy"
   ]
  },
  {
   "cell_type": "code",
   "execution_count": 2,
   "id": "gentle-european",
   "metadata": {},
   "outputs": [],
   "source": [
    "shapes = {1:'flattened', 2:'semi-flattened', 3:'round', 4:'puffed', 5:'flat', \n",
    "          6:'square', 7:'semi-oval', 8:'oval', 9:'cylindrical', 10:'pear', 11:'piriformis', 12:'heart-shaped'}\n",
    "\n",
    "tomato = {1:'aurora', 2:'rebecca', 3:'sheila', 4:'reina', 5:'monalisa', 6:'debora plus', 7:'cherry'}"
   ]
  },
  {
   "cell_type": "code",
   "execution_count": 3,
   "id": "spatial-husband",
   "metadata": {},
   "outputs": [],
   "source": [
    "np.random.seed(42)\n",
    "\n",
    "def generate_data(mu, sigma=0.2, k = 100):\n",
    "    \"\"\"function that generates random numbers according normal distribution\"\"\"\n",
    "    return np.random.normal(mu, sigma, k)\n",
    "\n",
    "def create_matrix(kind, low_weight, high_weight, diameter, shape_list, sample=100):\n",
    "    X = np.zeros((sample, 4))\n",
    "    X[:,0:1] = kind # tomato kind\n",
    "    X[:,1:2] = np.reshape(np.random.randint(low = low_weight,high=high_weight,size=sample), (sample,1)) # weight\n",
    "    X[:,2:3] = np.reshape((generate_data(diameter, k=sample)), (sample,1)) # diameter\n",
    "    X[:,3:4] = np.reshape(random.choices(shape_list, k=sample), (sample,1)) # tomato shape\n",
    "    return X"
   ]
  },
  {
   "cell_type": "markdown",
   "id": "legitimate-sympathy",
   "metadata": {},
   "source": [
    "### Create per tomato kind a random set of data with a sample size of 100"
   ]
  },
  {
   "cell_type": "code",
   "execution_count": 4,
   "id": "another-degree",
   "metadata": {},
   "outputs": [],
   "source": [
    "sample = 1000\n",
    "aurora = create_matrix(1, 220, 270, 7.6, [2,4], sample)\n",
    "rebecca = create_matrix(2, 175, 185, 5.2, [3], sample)\n",
    "sheila = create_matrix(3, 160,170, 5.6, [3], sample)\n",
    "reina = create_matrix(4, 200,250, 8.7, [1,4], sample)\n",
    "monalisa = create_matrix(5, 188,193, 6.4, [1,2], sample)\n",
    "debora_plus = create_matrix(6, 130,140, 4.3, [3,8], sample)\n",
    "cherry = create_matrix(7, 9,11, 2, [3,10], sample)"
   ]
  },
  {
   "cell_type": "markdown",
   "id": "worst-stress",
   "metadata": {},
   "source": [
    "### Put all these matrices in one big matrix"
   ]
  },
  {
   "cell_type": "code",
   "execution_count": 5,
   "id": "adjacent-silicon",
   "metadata": {},
   "outputs": [],
   "source": [
    "to_concat = [pd.DataFrame(aurora), pd.DataFrame(rebecca),\n",
    "             pd.DataFrame(sheila), pd.DataFrame(reina),\n",
    "             pd.DataFrame(monalisa),pd.DataFrame(debora_plus), \n",
    "             pd.DataFrame(cherry)]\n",
    "df = pd.concat(to_concat)\n",
    "xdf = df #create a copy to use later on"
   ]
  },
  {
   "cell_type": "markdown",
   "id": "apparent-magic",
   "metadata": {},
   "source": [
    "# Inspect the data\n",
    "\n",
    "Now we generated some data to experiment with, we should check if we are satisfied with the result. The following code shows some modifications to the data to improve readibility "
   ]
  },
  {
   "cell_type": "code",
   "execution_count": 6,
   "id": "functional-newspaper",
   "metadata": {},
   "outputs": [
    {
     "name": "stdout",
     "output_type": "stream",
     "text": [
      "       0      1         2     3\n",
      "0    1.0  258.0  7.476582   2.0\n",
      "1    1.0  248.0  7.348232   2.0\n",
      "2    1.0  234.0  7.837760   2.0\n",
      "3    1.0  262.0  7.591738   2.0\n",
      "4    1.0  227.0  7.634793   4.0\n",
      "..   ...    ...       ...   ...\n",
      "995  7.0    9.0  1.801383  10.0\n",
      "996  7.0    9.0  2.141486  10.0\n",
      "997  7.0   10.0  1.914585   3.0\n",
      "998  7.0   10.0  1.906315   3.0\n",
      "999  7.0    9.0  1.997694  10.0\n",
      "\n",
      "[7000 rows x 4 columns]\n"
     ]
    }
   ],
   "source": [
    "print(df)"
   ]
  },
  {
   "cell_type": "code",
   "execution_count": 7,
   "id": "south-disclaimer",
   "metadata": {},
   "outputs": [
    {
     "data": {
      "text/html": [
       "<div>\n",
       "<style scoped>\n",
       "    .dataframe tbody tr th:only-of-type {\n",
       "        vertical-align: middle;\n",
       "    }\n",
       "\n",
       "    .dataframe tbody tr th {\n",
       "        vertical-align: top;\n",
       "    }\n",
       "\n",
       "    .dataframe thead th {\n",
       "        text-align: right;\n",
       "    }\n",
       "</style>\n",
       "<table border=\"1\" class=\"dataframe\">\n",
       "  <thead>\n",
       "    <tr style=\"text-align: right;\">\n",
       "      <th></th>\n",
       "      <th>kind</th>\n",
       "      <th>weight</th>\n",
       "      <th>diameter</th>\n",
       "      <th>shape</th>\n",
       "    </tr>\n",
       "  </thead>\n",
       "  <tbody>\n",
       "    <tr>\n",
       "      <th>0</th>\n",
       "      <td>aurora</td>\n",
       "      <td>258</td>\n",
       "      <td>7.476582</td>\n",
       "      <td>semi-flattened</td>\n",
       "    </tr>\n",
       "    <tr>\n",
       "      <th>1</th>\n",
       "      <td>aurora</td>\n",
       "      <td>248</td>\n",
       "      <td>7.348232</td>\n",
       "      <td>semi-flattened</td>\n",
       "    </tr>\n",
       "    <tr>\n",
       "      <th>2</th>\n",
       "      <td>aurora</td>\n",
       "      <td>234</td>\n",
       "      <td>7.837760</td>\n",
       "      <td>semi-flattened</td>\n",
       "    </tr>\n",
       "  </tbody>\n",
       "</table>\n",
       "</div>"
      ],
      "text/plain": [
       "     kind  weight  diameter           shape\n",
       "0  aurora     258  7.476582  semi-flattened\n",
       "1  aurora     248  7.348232  semi-flattened\n",
       "2  aurora     234  7.837760  semi-flattened"
      ]
     },
     "execution_count": 7,
     "metadata": {},
     "output_type": "execute_result"
    }
   ],
   "source": [
    "df = df.rename(columns = {0: 'kind', 1: 'weight', 2:'diameter', 3:'shape'})\n",
    "df = df.astype({\"kind\": int, 'weight': int, \"shape\": int})\n",
    "df['shape'] = df['shape'].astype('category')\n",
    "df['kind'] = df['kind'].astype('category')\n",
    "df['kind'] = df['kind'].map(tomato)\n",
    "df['shape'] = df['shape'].map(shapes)\n",
    "df.head(3)"
   ]
  },
  {
   "cell_type": "code",
   "execution_count": 8,
   "id": "assured-finder",
   "metadata": {},
   "outputs": [
    {
     "name": "stdout",
     "output_type": "stream",
     "text": [
      "<class 'pandas.core.frame.DataFrame'>\n",
      "Int64Index: 7000 entries, 0 to 999\n",
      "Data columns (total 4 columns):\n",
      " #   Column    Non-Null Count  Dtype   \n",
      "---  ------    --------------  -----   \n",
      " 0   kind      7000 non-null   category\n",
      " 1   weight    7000 non-null   int64   \n",
      " 2   diameter  7000 non-null   float64 \n",
      " 3   shape     7000 non-null   category\n",
      "dtypes: category(2), float64(1), int64(1)\n",
      "memory usage: 178.3 KB\n"
     ]
    }
   ],
   "source": [
    "df.info()"
   ]
  },
  {
   "cell_type": "code",
   "execution_count": 9,
   "id": "tracked-english",
   "metadata": {
    "scrolled": true
   },
   "outputs": [
    {
     "data": {
      "text/html": [
       "<div>\n",
       "<style scoped>\n",
       "    .dataframe tbody tr th:only-of-type {\n",
       "        vertical-align: middle;\n",
       "    }\n",
       "\n",
       "    .dataframe tbody tr th {\n",
       "        vertical-align: top;\n",
       "    }\n",
       "\n",
       "    .dataframe thead th {\n",
       "        text-align: right;\n",
       "    }\n",
       "</style>\n",
       "<table border=\"1\" class=\"dataframe\">\n",
       "  <thead>\n",
       "    <tr style=\"text-align: right;\">\n",
       "      <th></th>\n",
       "      <th>weight</th>\n",
       "      <th>diameter</th>\n",
       "    </tr>\n",
       "    <tr>\n",
       "      <th>kind</th>\n",
       "      <th></th>\n",
       "      <th></th>\n",
       "    </tr>\n",
       "  </thead>\n",
       "  <tbody>\n",
       "    <tr>\n",
       "      <th>aurora</th>\n",
       "      <td>244.830</td>\n",
       "      <td>7.616325</td>\n",
       "    </tr>\n",
       "    <tr>\n",
       "      <th>rebecca</th>\n",
       "      <td>179.411</td>\n",
       "      <td>5.206912</td>\n",
       "    </tr>\n",
       "    <tr>\n",
       "      <th>sheila</th>\n",
       "      <td>164.518</td>\n",
       "      <td>5.600449</td>\n",
       "    </tr>\n",
       "    <tr>\n",
       "      <th>reina</th>\n",
       "      <td>224.665</td>\n",
       "      <td>8.690282</td>\n",
       "    </tr>\n",
       "    <tr>\n",
       "      <th>monalisa</th>\n",
       "      <td>190.084</td>\n",
       "      <td>6.401294</td>\n",
       "    </tr>\n",
       "    <tr>\n",
       "      <th>debora plus</th>\n",
       "      <td>134.551</td>\n",
       "      <td>4.301247</td>\n",
       "    </tr>\n",
       "    <tr>\n",
       "      <th>cherry</th>\n",
       "      <td>9.491</td>\n",
       "      <td>2.001034</td>\n",
       "    </tr>\n",
       "  </tbody>\n",
       "</table>\n",
       "</div>"
      ],
      "text/plain": [
       "              weight  diameter\n",
       "kind                          \n",
       "aurora       244.830  7.616325\n",
       "rebecca      179.411  5.206912\n",
       "sheila       164.518  5.600449\n",
       "reina        224.665  8.690282\n",
       "monalisa     190.084  6.401294\n",
       "debora plus  134.551  4.301247\n",
       "cherry         9.491  2.001034"
      ]
     },
     "execution_count": 9,
     "metadata": {},
     "output_type": "execute_result"
    }
   ],
   "source": [
    "group = df.groupby('kind')\n",
    "group.mean()"
   ]
  },
  {
   "cell_type": "code",
   "execution_count": 18,
   "id": "d65270e8",
   "metadata": {},
   "outputs": [
    {
     "name": "stdout",
     "output_type": "stream",
     "text": [
      "<class 'pandas.core.frame.DataFrame'>\n",
      "Int64Index: 7000 entries, 0 to 999\n",
      "Data columns (total 4 columns):\n",
      " #   Column    Non-Null Count  Dtype   \n",
      "---  ------    --------------  -----   \n",
      " 0   kind      7000 non-null   category\n",
      " 1   weight    7000 non-null   int64   \n",
      " 2   diameter  7000 non-null   float64 \n",
      " 3   shape     7000 non-null   category\n",
      "dtypes: category(2), float64(1), int64(1)\n",
      "memory usage: 436.3 KB\n"
     ]
    }
   ],
   "source": [
    "df.info()"
   ]
  },
  {
   "cell_type": "markdown",
   "id": "appreciated-travel",
   "metadata": {},
   "source": [
    "---"
   ]
  },
  {
   "cell_type": "markdown",
   "id": "integrated-starter",
   "metadata": {},
   "source": [
    "# Visualize data\n"
   ]
  },
  {
   "cell_type": "code",
   "execution_count": 17,
   "id": "according-injection",
   "metadata": {},
   "outputs": [
    {
     "name": "stderr",
     "output_type": "stream",
     "text": [
      "/Users/baba/miniforge3/lib/python3.9/site-packages/seaborn/_core.py:1057: FutureWarning: reindexing with a non-unique Index is deprecated and will raise in a future version.\n",
      "  comp_col.loc[orig.index] = pd.to_numeric(axis.convert_units(orig))\n"
     ]
    },
    {
     "ename": "ValueError",
     "evalue": "cannot reindex on an axis with duplicate labels",
     "output_type": "error",
     "traceback": [
      "\u001b[0;31m---------------------------------------------------------------------------\u001b[0m",
      "\u001b[0;31mValueError\u001b[0m                                Traceback (most recent call last)",
      "Input \u001b[0;32mIn [17]\u001b[0m, in \u001b[0;36m<cell line: 4>\u001b[0;34m()\u001b[0m\n\u001b[1;32m      2\u001b[0m \u001b[38;5;28;01mimport\u001b[39;00m \u001b[38;5;21;01mseaborn\u001b[39;00m \u001b[38;5;28;01mas\u001b[39;00m \u001b[38;5;21;01msns\u001b[39;00m\n\u001b[1;32m      3\u001b[0m \u001b[38;5;28;01mimport\u001b[39;00m \u001b[38;5;21;01mmatplotlib\u001b[39;00m\u001b[38;5;21;01m.\u001b[39;00m\u001b[38;5;21;01mpyplot\u001b[39;00m \u001b[38;5;28;01mas\u001b[39;00m \u001b[38;5;21;01mplt\u001b[39;00m\n\u001b[0;32m----> 4\u001b[0m \u001b[43msns\u001b[49m\u001b[38;5;241;43m.\u001b[39;49m\u001b[43mdisplot\u001b[49m\u001b[43m(\u001b[49m\u001b[43mdf\u001b[49m\u001b[43m,\u001b[49m\u001b[43m \u001b[49m\u001b[43mx\u001b[49m\u001b[38;5;241;43m=\u001b[39;49m\u001b[38;5;124;43m\"\u001b[39;49m\u001b[38;5;124;43mdiameter\u001b[39;49m\u001b[38;5;124;43m\"\u001b[39;49m\u001b[43m,\u001b[49m\u001b[43m \u001b[49m\u001b[43mhue\u001b[49m\u001b[38;5;241;43m=\u001b[39;49m\u001b[38;5;124;43m\"\u001b[39;49m\u001b[38;5;124;43mkind\u001b[39;49m\u001b[38;5;124;43m\"\u001b[39;49m\u001b[43m)\u001b[49m\n\u001b[1;32m      5\u001b[0m plt\u001b[38;5;241m.\u001b[39mshow()\n",
      "File \u001b[0;32m~/miniforge3/lib/python3.9/site-packages/seaborn/distributions.py:2274\u001b[0m, in \u001b[0;36mdisplot\u001b[0;34m(data, x, y, hue, row, col, weights, kind, rug, rug_kws, log_scale, legend, palette, hue_order, hue_norm, color, col_wrap, row_order, col_order, height, aspect, facet_kws, **kwargs)\u001b[0m\n\u001b[1;32m   2271\u001b[0m \u001b[38;5;28;01mif\u001b[39;00m p\u001b[38;5;241m.\u001b[39munivariate:\n\u001b[1;32m   2273\u001b[0m     _assign_default_kwargs(hist_kws, p\u001b[38;5;241m.\u001b[39mplot_univariate_histogram, histplot)\n\u001b[0;32m-> 2274\u001b[0m     \u001b[43mp\u001b[49m\u001b[38;5;241;43m.\u001b[39;49m\u001b[43mplot_univariate_histogram\u001b[49m\u001b[43m(\u001b[49m\u001b[38;5;241;43m*\u001b[39;49m\u001b[38;5;241;43m*\u001b[39;49m\u001b[43mhist_kws\u001b[49m\u001b[43m)\u001b[49m\n\u001b[1;32m   2276\u001b[0m \u001b[38;5;28;01melse\u001b[39;00m:\n\u001b[1;32m   2278\u001b[0m     _assign_default_kwargs(hist_kws, p\u001b[38;5;241m.\u001b[39mplot_bivariate_histogram, histplot)\n",
      "File \u001b[0;32m~/miniforge3/lib/python3.9/site-packages/seaborn/distributions.py:400\u001b[0m, in \u001b[0;36m_DistributionPlotter.plot_univariate_histogram\u001b[0;34m(self, multiple, element, fill, common_norm, common_bins, shrink, kde, kde_kws, color, legend, line_kws, estimate_kws, **plot_kws)\u001b[0m\n\u001b[1;32m    396\u001b[0m \u001b[38;5;66;03m# Do pre-compute housekeeping related to multiple groups\u001b[39;00m\n\u001b[1;32m    397\u001b[0m \u001b[38;5;66;03m# TODO best way to account for facet/semantic?\u001b[39;00m\n\u001b[1;32m    398\u001b[0m \u001b[38;5;28;01mif\u001b[39;00m \u001b[38;5;28mset\u001b[39m(\u001b[38;5;28mself\u001b[39m\u001b[38;5;241m.\u001b[39mvariables) \u001b[38;5;241m-\u001b[39m {\u001b[38;5;124m\"\u001b[39m\u001b[38;5;124mx\u001b[39m\u001b[38;5;124m\"\u001b[39m, \u001b[38;5;124m\"\u001b[39m\u001b[38;5;124my\u001b[39m\u001b[38;5;124m\"\u001b[39m}:\n\u001b[0;32m--> 400\u001b[0m     all_data \u001b[38;5;241m=\u001b[39m \u001b[38;5;28;43mself\u001b[39;49m\u001b[38;5;241;43m.\u001b[39;49m\u001b[43mcomp_data\u001b[49m\u001b[38;5;241m.\u001b[39mdropna()\n\u001b[1;32m    402\u001b[0m     \u001b[38;5;28;01mif\u001b[39;00m common_bins:\n\u001b[1;32m    403\u001b[0m         all_observations \u001b[38;5;241m=\u001b[39m all_data[\u001b[38;5;28mself\u001b[39m\u001b[38;5;241m.\u001b[39mdata_variable]\n",
      "File \u001b[0;32m~/miniforge3/lib/python3.9/site-packages/seaborn/_core.py:1057\u001b[0m, in \u001b[0;36mVectorPlotter.comp_data\u001b[0;34m(self)\u001b[0m\n\u001b[1;32m   1055\u001b[0m     orig \u001b[38;5;241m=\u001b[39m \u001b[38;5;28mself\u001b[39m\u001b[38;5;241m.\u001b[39mplot_data[var]\u001b[38;5;241m.\u001b[39mdropna()\n\u001b[1;32m   1056\u001b[0m comp_col \u001b[38;5;241m=\u001b[39m pd\u001b[38;5;241m.\u001b[39mSeries(index\u001b[38;5;241m=\u001b[39morig\u001b[38;5;241m.\u001b[39mindex, dtype\u001b[38;5;241m=\u001b[39m\u001b[38;5;28mfloat\u001b[39m, name\u001b[38;5;241m=\u001b[39mvar)\n\u001b[0;32m-> 1057\u001b[0m comp_col\u001b[38;5;241m.\u001b[39mloc[orig\u001b[38;5;241m.\u001b[39mindex] \u001b[38;5;241m=\u001b[39m pd\u001b[38;5;241m.\u001b[39mto_numeric(axis\u001b[38;5;241m.\u001b[39mconvert_units(orig))\n\u001b[1;32m   1059\u001b[0m \u001b[38;5;28;01mif\u001b[39;00m axis\u001b[38;5;241m.\u001b[39mget_scale() \u001b[38;5;241m==\u001b[39m \u001b[38;5;124m\"\u001b[39m\u001b[38;5;124mlog\u001b[39m\u001b[38;5;124m\"\u001b[39m:\n\u001b[1;32m   1060\u001b[0m     comp_col \u001b[38;5;241m=\u001b[39m np\u001b[38;5;241m.\u001b[39mlog10(comp_col)\n",
      "File \u001b[0;32m~/miniforge3/lib/python3.9/site-packages/pandas/core/indexing.py:716\u001b[0m, in \u001b[0;36m_LocationIndexer.__setitem__\u001b[0;34m(self, key, value)\u001b[0m\n\u001b[1;32m    713\u001b[0m \u001b[38;5;28mself\u001b[39m\u001b[38;5;241m.\u001b[39m_has_valid_setitem_indexer(key)\n\u001b[1;32m    715\u001b[0m iloc \u001b[38;5;241m=\u001b[39m \u001b[38;5;28mself\u001b[39m \u001b[38;5;28;01mif\u001b[39;00m \u001b[38;5;28mself\u001b[39m\u001b[38;5;241m.\u001b[39mname \u001b[38;5;241m==\u001b[39m \u001b[38;5;124m\"\u001b[39m\u001b[38;5;124miloc\u001b[39m\u001b[38;5;124m\"\u001b[39m \u001b[38;5;28;01melse\u001b[39;00m \u001b[38;5;28mself\u001b[39m\u001b[38;5;241m.\u001b[39mobj\u001b[38;5;241m.\u001b[39miloc\n\u001b[0;32m--> 716\u001b[0m \u001b[43miloc\u001b[49m\u001b[38;5;241;43m.\u001b[39;49m\u001b[43m_setitem_with_indexer\u001b[49m\u001b[43m(\u001b[49m\u001b[43mindexer\u001b[49m\u001b[43m,\u001b[49m\u001b[43m \u001b[49m\u001b[43mvalue\u001b[49m\u001b[43m,\u001b[49m\u001b[43m \u001b[49m\u001b[38;5;28;43mself\u001b[39;49m\u001b[38;5;241;43m.\u001b[39;49m\u001b[43mname\u001b[49m\u001b[43m)\u001b[49m\n",
      "File \u001b[0;32m~/miniforge3/lib/python3.9/site-packages/pandas/core/indexing.py:1690\u001b[0m, in \u001b[0;36m_iLocIndexer._setitem_with_indexer\u001b[0;34m(self, indexer, value, name)\u001b[0m\n\u001b[1;32m   1688\u001b[0m     \u001b[38;5;28mself\u001b[39m\u001b[38;5;241m.\u001b[39m_setitem_with_indexer_split_path(indexer, value, name)\n\u001b[1;32m   1689\u001b[0m \u001b[38;5;28;01melse\u001b[39;00m:\n\u001b[0;32m-> 1690\u001b[0m     \u001b[38;5;28;43mself\u001b[39;49m\u001b[38;5;241;43m.\u001b[39;49m\u001b[43m_setitem_single_block\u001b[49m\u001b[43m(\u001b[49m\u001b[43mindexer\u001b[49m\u001b[43m,\u001b[49m\u001b[43m \u001b[49m\u001b[43mvalue\u001b[49m\u001b[43m,\u001b[49m\u001b[43m \u001b[49m\u001b[43mname\u001b[49m\u001b[43m)\u001b[49m\n",
      "File \u001b[0;32m~/miniforge3/lib/python3.9/site-packages/pandas/core/indexing.py:1929\u001b[0m, in \u001b[0;36m_iLocIndexer._setitem_single_block\u001b[0;34m(self, indexer, value, name)\u001b[0m\n\u001b[1;32m   1923\u001b[0m     indexer \u001b[38;5;241m=\u001b[39m maybe_convert_ix(\u001b[38;5;241m*\u001b[39mindexer)  \u001b[38;5;66;03m# e.g. test_setitem_frame_align\u001b[39;00m\n\u001b[1;32m   1925\u001b[0m \u001b[38;5;28;01mif\u001b[39;00m (\u001b[38;5;28misinstance\u001b[39m(value, ABCSeries) \u001b[38;5;129;01mand\u001b[39;00m name \u001b[38;5;241m!=\u001b[39m \u001b[38;5;124m\"\u001b[39m\u001b[38;5;124miloc\u001b[39m\u001b[38;5;124m\"\u001b[39m) \u001b[38;5;129;01mor\u001b[39;00m \u001b[38;5;28misinstance\u001b[39m(value, \u001b[38;5;28mdict\u001b[39m):\n\u001b[1;32m   1926\u001b[0m     \u001b[38;5;66;03m# TODO(EA): ExtensionBlock.setitem this causes issues with\u001b[39;00m\n\u001b[1;32m   1927\u001b[0m     \u001b[38;5;66;03m# setting for extensionarrays that store dicts. Need to decide\u001b[39;00m\n\u001b[1;32m   1928\u001b[0m     \u001b[38;5;66;03m# if it's worth supporting that.\u001b[39;00m\n\u001b[0;32m-> 1929\u001b[0m     value \u001b[38;5;241m=\u001b[39m \u001b[38;5;28;43mself\u001b[39;49m\u001b[38;5;241;43m.\u001b[39;49m\u001b[43m_align_series\u001b[49m\u001b[43m(\u001b[49m\u001b[43mindexer\u001b[49m\u001b[43m,\u001b[49m\u001b[43m \u001b[49m\u001b[43mSeries\u001b[49m\u001b[43m(\u001b[49m\u001b[43mvalue\u001b[49m\u001b[43m)\u001b[49m\u001b[43m)\u001b[49m\n\u001b[1;32m   1931\u001b[0m \u001b[38;5;28;01melif\u001b[39;00m \u001b[38;5;28misinstance\u001b[39m(value, ABCDataFrame) \u001b[38;5;129;01mand\u001b[39;00m name \u001b[38;5;241m!=\u001b[39m \u001b[38;5;124m\"\u001b[39m\u001b[38;5;124miloc\u001b[39m\u001b[38;5;124m\"\u001b[39m:\n\u001b[1;32m   1932\u001b[0m     value \u001b[38;5;241m=\u001b[39m \u001b[38;5;28mself\u001b[39m\u001b[38;5;241m.\u001b[39m_align_frame(indexer, value)\n",
      "File \u001b[0;32m~/miniforge3/lib/python3.9/site-packages/pandas/core/indexing.py:2091\u001b[0m, in \u001b[0;36m_iLocIndexer._align_series\u001b[0;34m(self, indexer, ser, multiindex_indexer)\u001b[0m\n\u001b[1;32m   2089\u001b[0m \u001b[38;5;28;01mif\u001b[39;00m obj\u001b[38;5;241m.\u001b[39mndim \u001b[38;5;241m==\u001b[39m \u001b[38;5;241m2\u001b[39m \u001b[38;5;129;01mand\u001b[39;00m is_empty_indexer(indexer[\u001b[38;5;241m0\u001b[39m], ser\u001b[38;5;241m.\u001b[39m_values):\n\u001b[1;32m   2090\u001b[0m     \u001b[38;5;28;01mreturn\u001b[39;00m ser\u001b[38;5;241m.\u001b[39m_values\u001b[38;5;241m.\u001b[39mcopy()\n\u001b[0;32m-> 2091\u001b[0m ser \u001b[38;5;241m=\u001b[39m \u001b[43mser\u001b[49m\u001b[38;5;241;43m.\u001b[39;49m\u001b[43mreindex\u001b[49m\u001b[43m(\u001b[49m\u001b[43mobj\u001b[49m\u001b[38;5;241;43m.\u001b[39;49m\u001b[43maxes\u001b[49m\u001b[43m[\u001b[49m\u001b[38;5;241;43m0\u001b[39;49m\u001b[43m]\u001b[49m\u001b[43m[\u001b[49m\u001b[43mindexer\u001b[49m\u001b[43m[\u001b[49m\u001b[38;5;241;43m0\u001b[39;49m\u001b[43m]\u001b[49m\u001b[43m]\u001b[49m\u001b[43m,\u001b[49m\u001b[43m \u001b[49m\u001b[43mcopy\u001b[49m\u001b[38;5;241;43m=\u001b[39;49m\u001b[38;5;28;43;01mTrue\u001b[39;49;00m\u001b[43m)\u001b[49m\u001b[38;5;241m.\u001b[39m_values\n\u001b[1;32m   2093\u001b[0m \u001b[38;5;66;03m# single indexer\u001b[39;00m\n\u001b[1;32m   2094\u001b[0m \u001b[38;5;28;01mif\u001b[39;00m \u001b[38;5;28mlen\u001b[39m(indexer) \u001b[38;5;241m>\u001b[39m \u001b[38;5;241m1\u001b[39m \u001b[38;5;129;01mand\u001b[39;00m \u001b[38;5;129;01mnot\u001b[39;00m multiindex_indexer:\n",
      "File \u001b[0;32m~/miniforge3/lib/python3.9/site-packages/pandas/core/series.py:4672\u001b[0m, in \u001b[0;36mSeries.reindex\u001b[0;34m(self, *args, **kwargs)\u001b[0m\n\u001b[1;32m   4668\u001b[0m         \u001b[38;5;28;01mraise\u001b[39;00m \u001b[38;5;167;01mTypeError\u001b[39;00m(\n\u001b[1;32m   4669\u001b[0m             \u001b[38;5;124m\"\u001b[39m\u001b[38;5;124m'\u001b[39m\u001b[38;5;124mindex\u001b[39m\u001b[38;5;124m'\u001b[39m\u001b[38;5;124m passed as both positional and keyword argument\u001b[39m\u001b[38;5;124m\"\u001b[39m\n\u001b[1;32m   4670\u001b[0m         )\n\u001b[1;32m   4671\u001b[0m     kwargs\u001b[38;5;241m.\u001b[39mupdate({\u001b[38;5;124m\"\u001b[39m\u001b[38;5;124mindex\u001b[39m\u001b[38;5;124m\"\u001b[39m: index})\n\u001b[0;32m-> 4672\u001b[0m \u001b[38;5;28;01mreturn\u001b[39;00m \u001b[38;5;28;43msuper\u001b[39;49m\u001b[43m(\u001b[49m\u001b[43m)\u001b[49m\u001b[38;5;241;43m.\u001b[39;49m\u001b[43mreindex\u001b[49m\u001b[43m(\u001b[49m\u001b[38;5;241;43m*\u001b[39;49m\u001b[38;5;241;43m*\u001b[39;49m\u001b[43mkwargs\u001b[49m\u001b[43m)\u001b[49m\n",
      "File \u001b[0;32m~/miniforge3/lib/python3.9/site-packages/pandas/core/generic.py:4966\u001b[0m, in \u001b[0;36mNDFrame.reindex\u001b[0;34m(self, *args, **kwargs)\u001b[0m\n\u001b[1;32m   4963\u001b[0m     \u001b[38;5;28;01mreturn\u001b[39;00m \u001b[38;5;28mself\u001b[39m\u001b[38;5;241m.\u001b[39m_reindex_multi(axes, copy, fill_value)\n\u001b[1;32m   4965\u001b[0m \u001b[38;5;66;03m# perform the reindex on the axes\u001b[39;00m\n\u001b[0;32m-> 4966\u001b[0m \u001b[38;5;28;01mreturn\u001b[39;00m \u001b[38;5;28;43mself\u001b[39;49m\u001b[38;5;241;43m.\u001b[39;49m\u001b[43m_reindex_axes\u001b[49m\u001b[43m(\u001b[49m\n\u001b[1;32m   4967\u001b[0m \u001b[43m    \u001b[49m\u001b[43maxes\u001b[49m\u001b[43m,\u001b[49m\u001b[43m \u001b[49m\u001b[43mlevel\u001b[49m\u001b[43m,\u001b[49m\u001b[43m \u001b[49m\u001b[43mlimit\u001b[49m\u001b[43m,\u001b[49m\u001b[43m \u001b[49m\u001b[43mtolerance\u001b[49m\u001b[43m,\u001b[49m\u001b[43m \u001b[49m\u001b[43mmethod\u001b[49m\u001b[43m,\u001b[49m\u001b[43m \u001b[49m\u001b[43mfill_value\u001b[49m\u001b[43m,\u001b[49m\u001b[43m \u001b[49m\u001b[43mcopy\u001b[49m\n\u001b[1;32m   4968\u001b[0m \u001b[43m\u001b[49m\u001b[43m)\u001b[49m\u001b[38;5;241m.\u001b[39m__finalize__(\u001b[38;5;28mself\u001b[39m, method\u001b[38;5;241m=\u001b[39m\u001b[38;5;124m\"\u001b[39m\u001b[38;5;124mreindex\u001b[39m\u001b[38;5;124m\"\u001b[39m)\n",
      "File \u001b[0;32m~/miniforge3/lib/python3.9/site-packages/pandas/core/generic.py:4986\u001b[0m, in \u001b[0;36mNDFrame._reindex_axes\u001b[0;34m(self, axes, level, limit, tolerance, method, fill_value, copy)\u001b[0m\n\u001b[1;32m   4981\u001b[0m new_index, indexer \u001b[38;5;241m=\u001b[39m ax\u001b[38;5;241m.\u001b[39mreindex(\n\u001b[1;32m   4982\u001b[0m     labels, level\u001b[38;5;241m=\u001b[39mlevel, limit\u001b[38;5;241m=\u001b[39mlimit, tolerance\u001b[38;5;241m=\u001b[39mtolerance, method\u001b[38;5;241m=\u001b[39mmethod\n\u001b[1;32m   4983\u001b[0m )\n\u001b[1;32m   4985\u001b[0m axis \u001b[38;5;241m=\u001b[39m \u001b[38;5;28mself\u001b[39m\u001b[38;5;241m.\u001b[39m_get_axis_number(a)\n\u001b[0;32m-> 4986\u001b[0m obj \u001b[38;5;241m=\u001b[39m \u001b[43mobj\u001b[49m\u001b[38;5;241;43m.\u001b[39;49m\u001b[43m_reindex_with_indexers\u001b[49m\u001b[43m(\u001b[49m\n\u001b[1;32m   4987\u001b[0m \u001b[43m    \u001b[49m\u001b[43m{\u001b[49m\u001b[43maxis\u001b[49m\u001b[43m:\u001b[49m\u001b[43m \u001b[49m\u001b[43m[\u001b[49m\u001b[43mnew_index\u001b[49m\u001b[43m,\u001b[49m\u001b[43m \u001b[49m\u001b[43mindexer\u001b[49m\u001b[43m]\u001b[49m\u001b[43m}\u001b[49m\u001b[43m,\u001b[49m\n\u001b[1;32m   4988\u001b[0m \u001b[43m    \u001b[49m\u001b[43mfill_value\u001b[49m\u001b[38;5;241;43m=\u001b[39;49m\u001b[43mfill_value\u001b[49m\u001b[43m,\u001b[49m\n\u001b[1;32m   4989\u001b[0m \u001b[43m    \u001b[49m\u001b[43mcopy\u001b[49m\u001b[38;5;241;43m=\u001b[39;49m\u001b[43mcopy\u001b[49m\u001b[43m,\u001b[49m\n\u001b[1;32m   4990\u001b[0m \u001b[43m    \u001b[49m\u001b[43mallow_dups\u001b[49m\u001b[38;5;241;43m=\u001b[39;49m\u001b[38;5;28;43;01mFalse\u001b[39;49;00m\u001b[43m,\u001b[49m\n\u001b[1;32m   4991\u001b[0m \u001b[43m\u001b[49m\u001b[43m)\u001b[49m\n\u001b[1;32m   4992\u001b[0m \u001b[38;5;66;03m# If we've made a copy once, no need to make another one\u001b[39;00m\n\u001b[1;32m   4993\u001b[0m copy \u001b[38;5;241m=\u001b[39m \u001b[38;5;28;01mFalse\u001b[39;00m\n",
      "File \u001b[0;32m~/miniforge3/lib/python3.9/site-packages/pandas/core/generic.py:5032\u001b[0m, in \u001b[0;36mNDFrame._reindex_with_indexers\u001b[0;34m(self, reindexers, fill_value, copy, allow_dups)\u001b[0m\n\u001b[1;32m   5029\u001b[0m     indexer \u001b[38;5;241m=\u001b[39m ensure_platform_int(indexer)\n\u001b[1;32m   5031\u001b[0m \u001b[38;5;66;03m# TODO: speed up on homogeneous DataFrame objects (see _reindex_multi)\u001b[39;00m\n\u001b[0;32m-> 5032\u001b[0m new_data \u001b[38;5;241m=\u001b[39m \u001b[43mnew_data\u001b[49m\u001b[38;5;241;43m.\u001b[39;49m\u001b[43mreindex_indexer\u001b[49m\u001b[43m(\u001b[49m\n\u001b[1;32m   5033\u001b[0m \u001b[43m    \u001b[49m\u001b[43mindex\u001b[49m\u001b[43m,\u001b[49m\n\u001b[1;32m   5034\u001b[0m \u001b[43m    \u001b[49m\u001b[43mindexer\u001b[49m\u001b[43m,\u001b[49m\n\u001b[1;32m   5035\u001b[0m \u001b[43m    \u001b[49m\u001b[43maxis\u001b[49m\u001b[38;5;241;43m=\u001b[39;49m\u001b[43mbaxis\u001b[49m\u001b[43m,\u001b[49m\n\u001b[1;32m   5036\u001b[0m \u001b[43m    \u001b[49m\u001b[43mfill_value\u001b[49m\u001b[38;5;241;43m=\u001b[39;49m\u001b[43mfill_value\u001b[49m\u001b[43m,\u001b[49m\n\u001b[1;32m   5037\u001b[0m \u001b[43m    \u001b[49m\u001b[43mallow_dups\u001b[49m\u001b[38;5;241;43m=\u001b[39;49m\u001b[43mallow_dups\u001b[49m\u001b[43m,\u001b[49m\n\u001b[1;32m   5038\u001b[0m \u001b[43m    \u001b[49m\u001b[43mcopy\u001b[49m\u001b[38;5;241;43m=\u001b[39;49m\u001b[43mcopy\u001b[49m\u001b[43m,\u001b[49m\n\u001b[1;32m   5039\u001b[0m \u001b[43m\u001b[49m\u001b[43m)\u001b[49m\n\u001b[1;32m   5040\u001b[0m \u001b[38;5;66;03m# If we've made a copy once, no need to make another one\u001b[39;00m\n\u001b[1;32m   5041\u001b[0m copy \u001b[38;5;241m=\u001b[39m \u001b[38;5;28;01mFalse\u001b[39;00m\n",
      "File \u001b[0;32m~/miniforge3/lib/python3.9/site-packages/pandas/core/internals/managers.py:679\u001b[0m, in \u001b[0;36mBaseBlockManager.reindex_indexer\u001b[0;34m(self, new_axis, indexer, axis, fill_value, allow_dups, copy, consolidate, only_slice, use_na_proxy)\u001b[0m\n\u001b[1;32m    677\u001b[0m \u001b[38;5;66;03m# some axes don't allow reindexing with dups\u001b[39;00m\n\u001b[1;32m    678\u001b[0m \u001b[38;5;28;01mif\u001b[39;00m \u001b[38;5;129;01mnot\u001b[39;00m allow_dups:\n\u001b[0;32m--> 679\u001b[0m     \u001b[38;5;28;43mself\u001b[39;49m\u001b[38;5;241;43m.\u001b[39;49m\u001b[43maxes\u001b[49m\u001b[43m[\u001b[49m\u001b[43maxis\u001b[49m\u001b[43m]\u001b[49m\u001b[38;5;241;43m.\u001b[39;49m\u001b[43m_validate_can_reindex\u001b[49m\u001b[43m(\u001b[49m\u001b[43mindexer\u001b[49m\u001b[43m)\u001b[49m\n\u001b[1;32m    681\u001b[0m \u001b[38;5;28;01mif\u001b[39;00m axis \u001b[38;5;241m>\u001b[39m\u001b[38;5;241m=\u001b[39m \u001b[38;5;28mself\u001b[39m\u001b[38;5;241m.\u001b[39mndim:\n\u001b[1;32m    682\u001b[0m     \u001b[38;5;28;01mraise\u001b[39;00m \u001b[38;5;167;01mIndexError\u001b[39;00m(\u001b[38;5;124m\"\u001b[39m\u001b[38;5;124mRequested axis not found in manager\u001b[39m\u001b[38;5;124m\"\u001b[39m)\n",
      "File \u001b[0;32m~/miniforge3/lib/python3.9/site-packages/pandas/core/indexes/base.py:4107\u001b[0m, in \u001b[0;36mIndex._validate_can_reindex\u001b[0;34m(self, indexer)\u001b[0m\n\u001b[1;32m   4105\u001b[0m \u001b[38;5;66;03m# trying to reindex on an axis with duplicates\u001b[39;00m\n\u001b[1;32m   4106\u001b[0m \u001b[38;5;28;01mif\u001b[39;00m \u001b[38;5;129;01mnot\u001b[39;00m \u001b[38;5;28mself\u001b[39m\u001b[38;5;241m.\u001b[39m_index_as_unique \u001b[38;5;129;01mand\u001b[39;00m \u001b[38;5;28mlen\u001b[39m(indexer):\n\u001b[0;32m-> 4107\u001b[0m     \u001b[38;5;28;01mraise\u001b[39;00m \u001b[38;5;167;01mValueError\u001b[39;00m(\u001b[38;5;124m\"\u001b[39m\u001b[38;5;124mcannot reindex on an axis with duplicate labels\u001b[39m\u001b[38;5;124m\"\u001b[39m)\n",
      "\u001b[0;31mValueError\u001b[0m: cannot reindex on an axis with duplicate labels"
     ]
    },
    {
     "data": {
      "image/png": "[encoded data removed]",
      "text/plain": [
       "<Figure size 360x360 with 1 Axes>"
      ]
     },
     "metadata": {
      "needs_background": "light"
     },
     "output_type": "display_data"
    }
   ],
   "source": [
    "%matplotlib inline\n",
    "import seaborn as sns\n",
    "import matplotlib.pyplot as plt\n",
    "sns.displot(df, x=\"diameter\", hue=\"kind\")\n",
    "plt.show()"
   ]
  },
  {
   "cell_type": "code",
   "execution_count": null,
   "id": "german-headline",
   "metadata": {},
   "outputs": [],
   "source": [
    "sns.displot(df, x=\"weight\", hue=\"kind\")\n",
    "plt.show()"
   ]
  },
  {
   "cell_type": "code",
   "execution_count": null,
   "id": "smooth-serve",
   "metadata": {},
   "outputs": [],
   "source": [
    "df.groupby(['shape', 'kind']).size().unstack().plot(kind='bar', stacked=True, title='tomato shapes')\n",
    "plt.show()"
   ]
  },
  {
   "cell_type": "markdown",
   "id": "pleasant-sword",
   "metadata": {},
   "source": [
    "---"
   ]
  },
  {
   "cell_type": "markdown",
   "id": "hairy-marriage",
   "metadata": {},
   "source": [
    "# Prepare data to use for classifier\n",
    "\n",
    "The xdf dataframe is the dataframe containing all the raw data (numbers). We will use this to fill the feature matrix $X$ and the vector $y$ with the labeled class. \n",
    "\n",
    "\n",
    "\\begin{equation}\n",
    "X = \n",
    "   \\begin{bmatrix} \\\n",
    "    x_1^{(1)}  & x_2^{(1)} & x_3^{(1)}\\\\\n",
    "    x_1^{(2)}  & x_2^{(2)} & x_3^{(2)}\\\\ \n",
    "    x_1^{(3)}  & x_2^{(3)} & x_3^{(3)} \\\\ \n",
    "    .. & .. & .. \\\\ \n",
    "    x_1^{(m)}  & x_2^{(m)} & x_3^{(m)} \\\\ \n",
    "   \\end{bmatrix} \n",
    "   \\\n",
    "   %\n",
    "   y = \n",
    "   \\begin{bmatrix} \\\n",
    "   y^{(1)} \\\\\n",
    "   y^{(2)} \\\\ \n",
    "   y^{(3)} \\\\ \n",
    "   .. \\\\ \n",
    "   y^{(m)} \\\\ \n",
    "   \\end{bmatrix} \n",
    "  %\n",
    "\\end{equation}\n",
    "\n",
    "The first column of xdf contains the class (to be put in the $y$ vector), the second, third and fourth column of xdf contain the features weight ($x_1$), diameter ($x_2$) and shape ($x_3$). The first sample is annotated as ($x_n^{(1)}$), so the first feature of the first sample is annotated as $x_1^{(1)}$"
   ]
  },
  {
   "cell_type": "code",
   "execution_count": null,
   "id": "subsequent-secondary",
   "metadata": {},
   "outputs": [],
   "source": [
    "#split to features and labels\n",
    "X = np.array(xdf[[1,2,3]]) #features\n",
    "y = np.array(xdf[0]) #labels\n",
    "print(X.shape)\n",
    "print(y.shape)"
   ]
  },
  {
   "cell_type": "markdown",
   "id": "statistical-snapshot",
   "metadata": {},
   "source": [
    "A best practise is to split the data into a train and test set. The training samples are used to train the model, the test set is used to evaluate the model"
   ]
  },
  {
   "cell_type": "code",
   "execution_count": null,
   "id": "rental-spank",
   "metadata": {},
   "outputs": [],
   "source": [
    "#split in training set and test set\n",
    "from sklearn.model_selection import train_test_split, ShuffleSplit\n",
    "\n",
    "#split\n",
    "test_size = 0.3\n",
    "X_train, X_test, y_train, y_test = train_test_split(X, y, test_size = test_size)\n",
    "\n",
    "#cross validation\n",
    "cv = ShuffleSplit(n_splits=10, test_size=test_size, random_state=0)"
   ]
  },
  {
   "cell_type": "code",
   "execution_count": null,
   "id": "scientific-shower",
   "metadata": {
    "scrolled": true
   },
   "outputs": [],
   "source": [
    "print(f'test sample: {len(y_test)}, train sample: {len(y_train)}')"
   ]
  },
  {
   "cell_type": "markdown",
   "id": "stainless-atlantic",
   "metadata": {},
   "source": [
    "---"
   ]
  },
  {
   "cell_type": "markdown",
   "id": "czech-prisoner",
   "metadata": {},
   "source": [
    "# Build a decision tree classifier"
   ]
  },
  {
   "cell_type": "markdown",
   "id": "horizontal-revelation",
   "metadata": {},
   "source": [
    "We are now ready to build our classifier. To perform the classification, we first create a `DecisionTreeClassifier` object, in this example called `tree_clf`. Then we ask the object to execute the `fit`"
   ]
  },
  {
   "cell_type": "code",
   "execution_count": null,
   "id": "unavailable-purpose",
   "metadata": {},
   "outputs": [],
   "source": [
    "from sklearn.tree import DecisionTreeClassifier\n",
    "tree_clf = DecisionTreeClassifier(max_depth=3, random_state=42)\n",
    "tree_clf.fit(X_train, y_train)"
   ]
  },
  {
   "cell_type": "markdown",
   "id": "behavioral-simple",
   "metadata": {},
   "source": [
    "We can visualize the tree with the graphviz module"
   ]
  },
  {
   "cell_type": "code",
   "execution_count": null,
   "id": "stunning-speaker",
   "metadata": {},
   "outputs": [],
   "source": [
    "tomatoes = {'data' : X, 'target' : y, \n",
    "            'target_names' :['aurora', 'rebecca', 'sheila', 'reina', 'monalisa', 'debora plus', 'cherry'], \n",
    "            'feature_names' : ['weight (g)', 'diameter (cm)', 'shape (kind)']}\n",
    "\n",
    "from sklearn.tree import export_graphviz\n",
    "\n",
    "export_graphviz(\n",
    "        tree_clf,\n",
    "        out_file=(\"tree.dot\"),\n",
    "        feature_names=tomatoes['feature_names'],\n",
    "        class_names=tomatoes['target_names'],\n",
    "        rounded=True,\n",
    "        filled=True\n",
    "    )\n",
    "\n",
    "call(['dot', '-Tpng', 'tree.dot', '-o', 'tree.png', '-Gdpi=600'])\n",
    "Image(filename = 'tree.png')"
   ]
  },
  {
   "cell_type": "markdown",
   "id": "initial-rhythm",
   "metadata": {},
   "source": [
    "We can read the picture of the decision tree as follows. Suppose you find an tomato and you want to classify it. You then start at the top of the **root node**, at **depth = 0**. The first question we need to ask ourselves is: Is the diameter smaller than 8.15 cm? If so, we descend down the *True* axis down to the next **child node**,at **depth = 1**. if there are not longer nodes to downsize we call it a **leaf node**. It has no children anymore. It is the maximum depth for this node. So we can see here what the predicted class is. \n",
    "\n",
    "In the picture we also see that a node attribute counts the number of samples. In our example, 100 samples have a diameter smaller than 3.115 cm and 600 samples have diameter to or greater than 3.115 cm. Of the 600 samples, 400 samples have a diameter smaller than 7.033 cm and 200 samples have a diameter greater than 7.032 cm.\n",
    "\n",
    "The attribute `gini` says something about purity. A node is pure $ (gini = 0) $ if all training samples belong to the same class. For example, the `reina` node has a gini score of $$ 1 - (0/720) ^ 2 - (0/720) ^ 2 - (0/720) ^ 2 - (720/720) ^ 2 - (0/720) ^ 2 - (0/720) ^ 2 - (0/720) ^2 = 0 $$. \n",
    "\n",
    "The gini score is calculated by the formula\n",
    "\n",
    "$$ G_i = 1 - \\ sum_ {k = 1} ^ n P_i, k ^ 2 $$\n",
    "\n",
    "the `aurora` node has a gini score of $$ 1 - (697/699) ^ 2 - (0/699) ^ 2 - (0/699) ^ 2 - (2/699) ^ 2 - (0/699) ^ 2 - (0/699) ^ 2 - (0/699) ^2 = 0.006 $$. \n"
   ]
  },
  {
   "cell_type": "markdown",
   "id": "hydraulic-syndication",
   "metadata": {},
   "source": [
    "---"
   ]
  },
  {
   "cell_type": "markdown",
   "id": "specific-field",
   "metadata": {},
   "source": [
    "# Use classifier\n",
    "\n",
    "We can use the classifier by feeding the weight, diameter and shape into the classifier. It now uses the tree algorithm to determine the class. "
   ]
  },
  {
   "cell_type": "code",
   "execution_count": null,
   "id": "interested-dubai",
   "metadata": {
    "scrolled": true
   },
   "outputs": [],
   "source": [
    "print('enter', tomatoes['feature_names'])"
   ]
  },
  {
   "cell_type": "code",
   "execution_count": null,
   "id": "upset-arena",
   "metadata": {
    "scrolled": true
   },
   "outputs": [],
   "source": [
    "Image(filename = 'images/Reina.jpeg')"
   ]
  },
  {
   "cell_type": "code",
   "execution_count": null,
   "id": "naked-bumper",
   "metadata": {
    "scrolled": false
   },
   "outputs": [],
   "source": [
    "tomato[int(tree_clf.predict([[190, 6, 4]]))]"
   ]
  },
  {
   "cell_type": "markdown",
   "id": "former-springfield",
   "metadata": {},
   "source": [
    "---"
   ]
  },
  {
   "cell_type": "markdown",
   "id": "wired-taylor",
   "metadata": {},
   "source": [
    "# Evaluate classifier"
   ]
  },
  {
   "cell_type": "code",
   "execution_count": null,
   "id": "invalid-toddler",
   "metadata": {},
   "outputs": [],
   "source": [
    "y_pred = tree_clf.predict(X_test)"
   ]
  },
  {
   "cell_type": "code",
   "execution_count": null,
   "id": "cleared-operations",
   "metadata": {},
   "outputs": [],
   "source": [
    "# function to evaluate\n",
    "from sklearn.metrics import confusion_matrix\n",
    "\n",
    "print('confusion matrix:')\n",
    "print(confusion_matrix(y_test, y_pred))\n",
    "print(f'\\ntest  accuracy: {tree_clf.score(X_test, y_test)}')\n",
    "print(f'train accuracy: {tree_clf.score(X_train, y_train)}')"
   ]
  },
  {
   "cell_type": "markdown",
   "id": "scenic-characterization",
   "metadata": {},
   "source": [
    "The accuracy is not that good. The accuracy is even on the training set low. The model fails to predict 'sheila' and 'cherry' and predicts too often 'debora plus'. As you can see in the tree picture, this is no leaf node. It is still a container class. Problably the classifier needs another configuration. For instance the possibility to use more depths. There is a danger though that you model too specific on the trainingset. Than it will *overfit* and perform not well on the test set in the end. Let us experiment on the depth"
   ]
  },
  {
   "cell_type": "code",
   "execution_count": null,
   "id": "boring-reasoning",
   "metadata": {},
   "outputs": [],
   "source": [
    "tree_clf = DecisionTreeClassifier(max_depth=4, random_state=42, class_weight = 'balanced')\n",
    "tree_clf.fit(X_train, y_train)\n",
    "y_pred = tree_clf.predict(X_test)\n",
    "print('confusion matrix:')\n",
    "print(confusion_matrix(y_test, y_pred))\n",
    "print(f'\\ntest  accuracy: {tree_clf.score(X_test, y_test)}')\n",
    "print(f'train accuracy: {tree_clf.score(X_train, y_train)}')\n",
    "\n",
    "export_graphviz(\n",
    "        tree_clf,\n",
    "        out_file=(\"tree.dot\"),\n",
    "        feature_names=tomatoes['feature_names'],\n",
    "        class_names=tomatoes['target_names'],\n",
    "        rounded=True,\n",
    "        filled=True\n",
    "    )\n",
    "\n",
    "from subprocess import call\n",
    "call(['dot', '-Tpng', 'tree.dot', '-o', 'tree.png', '-Gdpi=600'])\n",
    "\n",
    "from IPython.display import Image\n",
    "Image(filename = 'tree.png')"
   ]
  },
  {
   "cell_type": "code",
   "execution_count": null,
   "id": "engaged-maldives",
   "metadata": {},
   "outputs": [],
   "source": [
    "tree_clf = DecisionTreeClassifier(max_depth=5, random_state=42, class_weight='balanced')\n",
    "tree_clf.fit(X_train, y_train)\n",
    "y_pred = tree_clf.predict(X_test)\n",
    "print('confusion matrix:')\n",
    "print(confusion_matrix(y_test, y_pred))\n",
    "print(f'\\ntest  accuracy: {tree_clf.score(X_test, y_test)}')\n",
    "print(f'train accuracy: {tree_clf.score(X_train, y_train)}')\n",
    "\n",
    "export_graphviz(\n",
    "        tree_clf,\n",
    "        out_file=(\"tree.dot\"),\n",
    "        feature_names=tomatoes['feature_names'],\n",
    "        class_names=tomatoes['target_names'],\n",
    "        rounded=True,\n",
    "        filled=True\n",
    "    )\n",
    "\n",
    "call(['dot', '-Tpng', 'tree.dot', '-o', 'tree.png', '-Gdpi=600'])\n",
    "Image(filename = 'tree.png')"
   ]
  },
  {
   "cell_type": "code",
   "execution_count": null,
   "id": "acknowledged-yellow",
   "metadata": {},
   "outputs": [],
   "source": []
  }
 ],
 "metadata": {
  "kernelspec": {
   "display_name": "Python 3 (ipykernel)",
   "language": "python",
   "name": "python3"
  },
  "language_info": {
   "codemirror_mode": {
    "name": "ipython",
    "version": 3
   },
   "file_extension": ".py",
   "mimetype": "text/x-python",
   "name": "python",
   "nbconvert_exporter": "python",
   "pygments_lexer": "ipython3",
   "version": "3.9.10"
  }
 },
 "nbformat": 4,
 "nbformat_minor": 5
}
